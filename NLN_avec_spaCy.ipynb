{
  "cells": [
    {
      "cell_type": "markdown",
      "metadata": {
        "id": "view-in-github",
        "colab_type": "text"
      },
      "source": [
        "<a href=\"https://colab.research.google.com/github/MedAzzam/TALN-avec-spaCy/blob/main/NLN_avec_spaCy.ipynb\" target=\"_parent\"><img src=\"https://colab.research.google.com/assets/colab-badge.svg\" alt=\"Open In Colab\"/></a>"
      ]
    },
    {
      "cell_type": "markdown",
      "id": "90c63b3d",
      "metadata": {
        "id": "90c63b3d"
      },
      "source": [
        "## Prérequis"
      ]
    },
    {
      "cell_type": "code",
      "execution_count": 32,
      "id": "bcf2867b",
      "metadata": {
        "colab": {
          "base_uri": "https://localhost:8080/"
        },
        "id": "bcf2867b",
        "outputId": "61f7cbeb-5ec1-43b4-912b-29a3528ba9aa"
      },
      "outputs": [
        {
          "output_type": "stream",
          "name": "stdout",
          "text": [
            "3.6.1\n"
          ]
        }
      ],
      "source": [
        "import spacy\n",
        "print(spacy.__version__)"
      ]
    },
    {
      "cell_type": "code",
      "source": [
        "!python --version"
      ],
      "metadata": {
        "colab": {
          "base_uri": "https://localhost:8080/"
        },
        "id": "F68NaK2I59JQ",
        "outputId": "e09ccd18-a36c-48cc-8917-5c2815ec91fd"
      },
      "id": "F68NaK2I59JQ",
      "execution_count": 37,
      "outputs": [
        {
          "output_type": "stream",
          "name": "stdout",
          "text": [
            "Python 3.10.12\n"
          ]
        }
      ]
    },
    {
      "cell_type": "code",
      "source": [
        "!pip install -U spacy\n",
        "!python -m spacy download fr_core_news_sm"
      ],
      "metadata": {
        "id": "KYh_cdXA82l7"
      },
      "id": "KYh_cdXA82l7",
      "execution_count": null,
      "outputs": []
    },
    {
      "cell_type": "code",
      "execution_count": 1,
      "id": "8dca4dc6",
      "metadata": {
        "id": "8dca4dc6"
      },
      "outputs": [],
      "source": [
        "import spacy\n",
        "nlp = spacy.load(\"fr_core_news_sm\")"
      ]
    },
    {
      "cell_type": "code",
      "source": [
        "test = \" Il y a eu une interruption de service chez Bouygues à Marseille.\""
      ],
      "metadata": {
        "id": "TrbBeIRs6TDl"
      },
      "id": "TrbBeIRs6TDl",
      "execution_count": 2,
      "outputs": []
    },
    {
      "cell_type": "markdown",
      "id": "3fb3bb0e",
      "metadata": {
        "id": "3fb3bb0e"
      },
      "source": [
        "## Tokenisation"
      ]
    },
    {
      "cell_type": "code",
      "execution_count": 3,
      "id": "0c35f117",
      "metadata": {
        "id": "0c35f117"
      },
      "outputs": [],
      "source": [
        "def return_token(sentence):\n",
        " # Tokeniser la phrase\n",
        " doc = nlp(sentence)\n",
        " # Retourner le texte de chaque token\n",
        " return [X.text for X in doc]"
      ]
    },
    {
      "cell_type": "code",
      "execution_count": 4,
      "id": "65fd12c5",
      "metadata": {
        "colab": {
          "base_uri": "https://localhost:8080/"
        },
        "id": "65fd12c5",
        "outputId": "3f754e9f-80c0-47bd-97f0-ebda1d7d4ea3"
      },
      "outputs": [
        {
          "output_type": "execute_result",
          "data": {
            "text/plain": [
              "[' ',\n",
              " 'Il',\n",
              " 'y',\n",
              " 'a',\n",
              " 'eu',\n",
              " 'une',\n",
              " 'interruption',\n",
              " 'de',\n",
              " 'service',\n",
              " 'chez',\n",
              " 'Bouygues',\n",
              " 'à',\n",
              " 'Marseille',\n",
              " '.']"
            ]
          },
          "metadata": {},
          "execution_count": 4
        }
      ],
      "source": [
        "return_token(test)"
      ]
    },
    {
      "cell_type": "markdown",
      "id": "9af46b8c",
      "metadata": {
        "id": "9af46b8c"
      },
      "source": [
        "## Stopwords"
      ]
    },
    {
      "cell_type": "code",
      "source": [
        "!pip install nltk"
      ],
      "metadata": {
        "colab": {
          "base_uri": "https://localhost:8080/"
        },
        "id": "Khtx6_4J9h4g",
        "outputId": "42064f4d-267f-472b-e484-42f8e2cf7742"
      },
      "id": "Khtx6_4J9h4g",
      "execution_count": 6,
      "outputs": [
        {
          "output_type": "stream",
          "name": "stdout",
          "text": [
            "Requirement already satisfied: nltk in /usr/local/lib/python3.10/dist-packages (3.8.1)\n",
            "Requirement already satisfied: click in /usr/local/lib/python3.10/dist-packages (from nltk) (8.1.7)\n",
            "Requirement already satisfied: joblib in /usr/local/lib/python3.10/dist-packages (from nltk) (1.3.2)\n",
            "Requirement already satisfied: regex>=2021.8.3 in /usr/local/lib/python3.10/dist-packages (from nltk) (2023.6.3)\n",
            "Requirement already satisfied: tqdm in /usr/local/lib/python3.10/dist-packages (from nltk) (4.66.1)\n"
          ]
        }
      ]
    },
    {
      "cell_type": "code",
      "execution_count": 8,
      "id": "8078f218",
      "metadata": {
        "colab": {
          "base_uri": "https://localhost:8080/"
        },
        "id": "8078f218",
        "outputId": "d8d244cb-bfc0-450c-ac49-b28d0b67ed4d"
      },
      "outputs": [
        {
          "output_type": "stream",
          "name": "stderr",
          "text": [
            "[nltk_data] Downloading package stopwords to /root/nltk_data...\n",
            "[nltk_data]   Unzipping corpora/stopwords.zip.\n"
          ]
        }
      ],
      "source": [
        "import nltk\n",
        "nltk.download('stopwords')\n",
        "from nltk.corpus import stopwords\n",
        "stopWords = set(stopwords.words('french'))"
      ]
    },
    {
      "cell_type": "code",
      "execution_count": 9,
      "id": "4bc98b0f",
      "metadata": {
        "colab": {
          "base_uri": "https://localhost:8080/"
        },
        "id": "4bc98b0f",
        "outputId": "b6838f49-27d1-416b-c334-0ae27fba1cda"
      },
      "outputs": [
        {
          "output_type": "execute_result",
          "data": {
            "text/plain": [
              "[' ',\n",
              " 'Il',\n",
              " 'a',\n",
              " 'interruption',\n",
              " 'service',\n",
              " 'chez',\n",
              " 'Bouygues',\n",
              " 'Marseille',\n",
              " '.']"
            ]
          },
          "metadata": {},
          "execution_count": 9
        }
      ],
      "source": [
        "clean_words = []\n",
        "for token in return_token(test):\n",
        " if token not in stopWords:\n",
        "    clean_words.append(token)\n",
        "clean_words"
      ]
    },
    {
      "cell_type": "markdown",
      "id": "6b5b6d94",
      "metadata": {
        "id": "6b5b6d94"
      },
      "source": [
        "## Tokenisation par phrases"
      ]
    },
    {
      "cell_type": "code",
      "execution_count": 10,
      "id": "7e7ce6c9",
      "metadata": {
        "id": "7e7ce6c9"
      },
      "outputs": [],
      "source": [
        "test = \"\"\"Il y a eu une interruption de service chez Bouygues à Marseille. Plus\n",
        "de 300 000 utilisateurs ont été perturbés.\"\"\""
      ]
    },
    {
      "cell_type": "code",
      "execution_count": 11,
      "id": "7d791ad8",
      "metadata": {
        "id": "7d791ad8"
      },
      "outputs": [],
      "source": [
        "def return_token_sent(sentence):\n",
        " # Tokeniser la phrase\n",
        " doc = nlp(sentence)\n",
        " # Retourner le texte de chaque phrase\n",
        " return [X.text for X in doc.sents]"
      ]
    },
    {
      "cell_type": "code",
      "execution_count": 12,
      "id": "0ecbbe83",
      "metadata": {
        "colab": {
          "base_uri": "https://localhost:8080/"
        },
        "id": "0ecbbe83",
        "outputId": "135e8980-9395-4b21-9880-15736059af04"
      },
      "outputs": [
        {
          "output_type": "execute_result",
          "data": {
            "text/plain": [
              "['Il y a eu une interruption de service chez Bouygues à Marseille.',\n",
              " 'Plus \\nde 300 000 utilisateurs ont été perturbés.']"
            ]
          },
          "metadata": {},
          "execution_count": 12
        }
      ],
      "source": [
        "return_token_sent(test)"
      ]
    },
    {
      "cell_type": "markdown",
      "id": "2765e6ce",
      "metadata": {
        "id": "2765e6ce"
      },
      "source": [
        "## Stemming"
      ]
    },
    {
      "cell_type": "code",
      "execution_count": 13,
      "id": "3ca09f8d",
      "metadata": {
        "id": "3ca09f8d"
      },
      "outputs": [],
      "source": [
        "from nltk.stem.snowball import SnowballStemmer\n",
        "stemmer = SnowballStemmer(language='french')\n",
        "\n",
        "def return_stem(sentence):\n",
        " doc = nlp(sentence)\n",
        " return [stemmer.stem(X.text) for X in doc]"
      ]
    },
    {
      "cell_type": "code",
      "execution_count": 14,
      "id": "22370c62",
      "metadata": {
        "colab": {
          "base_uri": "https://localhost:8080/"
        },
        "id": "22370c62",
        "outputId": "d4010831-0a88-436f-bd0d-24a5138e9005"
      },
      "outputs": [
        {
          "output_type": "execute_result",
          "data": {
            "text/plain": [
              "['il',\n",
              " 'y',\n",
              " 'a',\n",
              " 'eu',\n",
              " 'une',\n",
              " 'interrupt',\n",
              " 'de',\n",
              " 'servic',\n",
              " 'chez',\n",
              " 'bouygu',\n",
              " 'à',\n",
              " 'marseil',\n",
              " '.',\n",
              " 'plus',\n",
              " '\\n',\n",
              " 'de',\n",
              " '300',\n",
              " '000',\n",
              " 'utilis',\n",
              " 'ont',\n",
              " 'été',\n",
              " 'perturb',\n",
              " '.']"
            ]
          },
          "metadata": {},
          "execution_count": 14
        }
      ],
      "source": [
        "return_stem(test)"
      ]
    },
    {
      "cell_type": "markdown",
      "id": "7336a84e",
      "metadata": {
        "id": "7336a84e"
      },
      "source": [
        "## Reconnaissance d’entités nommées (NER)"
      ]
    },
    {
      "cell_type": "code",
      "execution_count": 15,
      "id": "b33630b1",
      "metadata": {
        "id": "b33630b1"
      },
      "outputs": [],
      "source": [
        "def return_NER(sentence):\n",
        " # Tokeniser la phrase\n",
        " doc = nlp(sentence)\n",
        " # Retourner le texte et le label pour chaque entité\n",
        " return [(X.text, X.label_) for X in doc.ents]"
      ]
    },
    {
      "cell_type": "code",
      "execution_count": 16,
      "id": "e9e0fe27",
      "metadata": {
        "colab": {
          "base_uri": "https://localhost:8080/"
        },
        "id": "e9e0fe27",
        "outputId": "c6038751-8c9c-4e59-c06c-5db08c89fe9e"
      },
      "outputs": [
        {
          "output_type": "execute_result",
          "data": {
            "text/plain": [
              "[('Bouygues', 'ORG'), ('Marseille', 'LOC')]"
            ]
          },
          "metadata": {},
          "execution_count": 16
        }
      ],
      "source": [
        "return_NER(test)"
      ]
    },
    {
      "cell_type": "code",
      "execution_count": 17,
      "id": "b0b01ae3",
      "metadata": {
        "colab": {
          "base_uri": "https://localhost:8080/",
          "height": 87
        },
        "id": "b0b01ae3",
        "outputId": "ac1ad7b7-30be-419f-a89a-7c64f352961c"
      },
      "outputs": [
        {
          "output_type": "display_data",
          "data": {
            "text/plain": [
              "<IPython.core.display.HTML object>"
            ],
            "text/html": [
              "<span class=\"tex2jax_ignore\"><div class=\"entities\" style=\"line-height: 2.5; direction: ltr\">Il y a eu une interruption de service chez \n",
              "<mark class=\"entity\" style=\"background: #7aecec; padding: 0.45em 0.6em; margin: 0 0.25em; line-height: 1; border-radius: 0.35em;\">\n",
              "    Bouygues\n",
              "    <span style=\"font-size: 0.8em; font-weight: bold; line-height: 1; border-radius: 0.35em; vertical-align: middle; margin-left: 0.5rem\">ORG</span>\n",
              "</mark>\n",
              " à \n",
              "<mark class=\"entity\" style=\"background: #ff9561; padding: 0.45em 0.6em; margin: 0 0.25em; line-height: 1; border-radius: 0.35em;\">\n",
              "    Marseille\n",
              "    <span style=\"font-size: 0.8em; font-weight: bold; line-height: 1; border-radius: 0.35em; vertical-align: middle; margin-left: 0.5rem\">LOC</span>\n",
              "</mark>\n",
              ". Plus <br>de 300 000 utilisateurs ont été perturbés.</div></span>"
            ]
          },
          "metadata": {}
        }
      ],
      "source": [
        "from spacy import displacy\n",
        "doc = nlp(test)\n",
        "displacy.render(doc, style=\"ent\", jupyter=True)"
      ]
    },
    {
      "cell_type": "markdown",
      "id": "226b4a45",
      "metadata": {
        "id": "226b4a45"
      },
      "source": [
        "## L’étiquetage morpho-syntaxique"
      ]
    },
    {
      "cell_type": "code",
      "execution_count": 18,
      "id": "94f38044",
      "metadata": {
        "id": "94f38044"
      },
      "outputs": [],
      "source": [
        "def return_POS(sentence):\n",
        " # Tokeniser la phrase\n",
        " doc = nlp(sentence)\n",
        " # Retourner les étiquettes de chaque token\n",
        " return [(X, X.pos_) for X in doc]"
      ]
    },
    {
      "cell_type": "code",
      "execution_count": 19,
      "id": "6cb94956",
      "metadata": {
        "colab": {
          "base_uri": "https://localhost:8080/"
        },
        "id": "6cb94956",
        "outputId": "05fd264c-cd74-4b06-c43f-9bef6adb7565"
      },
      "outputs": [
        {
          "output_type": "execute_result",
          "data": {
            "text/plain": [
              "[(Il, 'PRON'),\n",
              " (y, 'PRON'),\n",
              " (a, 'AUX'),\n",
              " (eu, 'VERB'),\n",
              " (une, 'DET'),\n",
              " (interruption, 'NOUN'),\n",
              " (de, 'ADP'),\n",
              " (service, 'NOUN'),\n",
              " (chez, 'ADP'),\n",
              " (Bouygues, 'PROPN'),\n",
              " (à, 'ADP'),\n",
              " (Marseille, 'PROPN'),\n",
              " (., 'PUNCT'),\n",
              " (Plus, 'ADV'),\n",
              " (, 'SPACE'),\n",
              " (de, 'ADP'),\n",
              " (300, 'DET'),\n",
              " (000, 'DET'),\n",
              " (utilisateurs, 'NOUN'),\n",
              " (ont, 'AUX'),\n",
              " (été, 'AUX'),\n",
              " (perturbés, 'VERB'),\n",
              " (., 'PUNCT')]"
            ]
          },
          "metadata": {},
          "execution_count": 19
        }
      ],
      "source": [
        "return_POS(test)"
      ]
    },
    {
      "cell_type": "code",
      "execution_count": 25,
      "id": "297e8bc2",
      "metadata": {
        "colab": {
          "base_uri": "https://localhost:8080/",
          "height": 554
        },
        "id": "297e8bc2",
        "outputId": "21c95d6d-f722-49b6-88c9-6d2a48cc5d51"
      },
      "outputs": [
        {
          "output_type": "display_data",
          "data": {
            "text/plain": [
              "<IPython.core.display.HTML object>"
            ],
            "text/html": [
              "<span class=\"tex2jax_ignore\"><svg xmlns=\"http://www.w3.org/2000/svg\" xmlns:xlink=\"http://www.w3.org/1999/xlink\" xml:lang=\"fr\" id=\"b963c170408649d083d53b60a08afdb0-0\" class=\"displacy\" width=\"3200\" height=\"512.0\" direction=\"ltr\" style=\"max-width: none; height: 512.0px; color: blue; background: #ffffff; font-family: Arial; direction: ltr\">\n",
              "<text class=\"displacy-token\" fill=\"currentColor\" text-anchor=\"middle\" y=\"422.0\">\n",
              "    <tspan class=\"displacy-word\" fill=\"currentColor\" x=\"50\">Il</tspan>\n",
              "    <tspan class=\"displacy-tag\" dy=\"2em\" fill=\"currentColor\" x=\"50\">PRON</tspan>\n",
              "</text>\n",
              "\n",
              "<text class=\"displacy-token\" fill=\"currentColor\" text-anchor=\"middle\" y=\"422.0\">\n",
              "    <tspan class=\"displacy-word\" fill=\"currentColor\" x=\"200\">y</tspan>\n",
              "    <tspan class=\"displacy-tag\" dy=\"2em\" fill=\"currentColor\" x=\"200\">PRON</tspan>\n",
              "</text>\n",
              "\n",
              "<text class=\"displacy-token\" fill=\"currentColor\" text-anchor=\"middle\" y=\"422.0\">\n",
              "    <tspan class=\"displacy-word\" fill=\"currentColor\" x=\"350\">a</tspan>\n",
              "    <tspan class=\"displacy-tag\" dy=\"2em\" fill=\"currentColor\" x=\"350\">AUX</tspan>\n",
              "</text>\n",
              "\n",
              "<text class=\"displacy-token\" fill=\"currentColor\" text-anchor=\"middle\" y=\"422.0\">\n",
              "    <tspan class=\"displacy-word\" fill=\"currentColor\" x=\"500\">eu</tspan>\n",
              "    <tspan class=\"displacy-tag\" dy=\"2em\" fill=\"currentColor\" x=\"500\">VERB</tspan>\n",
              "</text>\n",
              "\n",
              "<text class=\"displacy-token\" fill=\"currentColor\" text-anchor=\"middle\" y=\"422.0\">\n",
              "    <tspan class=\"displacy-word\" fill=\"currentColor\" x=\"650\">une</tspan>\n",
              "    <tspan class=\"displacy-tag\" dy=\"2em\" fill=\"currentColor\" x=\"650\">DET</tspan>\n",
              "</text>\n",
              "\n",
              "<text class=\"displacy-token\" fill=\"currentColor\" text-anchor=\"middle\" y=\"422.0\">\n",
              "    <tspan class=\"displacy-word\" fill=\"currentColor\" x=\"800\">interruption</tspan>\n",
              "    <tspan class=\"displacy-tag\" dy=\"2em\" fill=\"currentColor\" x=\"800\">NOUN</tspan>\n",
              "</text>\n",
              "\n",
              "<text class=\"displacy-token\" fill=\"currentColor\" text-anchor=\"middle\" y=\"422.0\">\n",
              "    <tspan class=\"displacy-word\" fill=\"currentColor\" x=\"950\">de</tspan>\n",
              "    <tspan class=\"displacy-tag\" dy=\"2em\" fill=\"currentColor\" x=\"950\">ADP</tspan>\n",
              "</text>\n",
              "\n",
              "<text class=\"displacy-token\" fill=\"currentColor\" text-anchor=\"middle\" y=\"422.0\">\n",
              "    <tspan class=\"displacy-word\" fill=\"currentColor\" x=\"1100\">service</tspan>\n",
              "    <tspan class=\"displacy-tag\" dy=\"2em\" fill=\"currentColor\" x=\"1100\">NOUN</tspan>\n",
              "</text>\n",
              "\n",
              "<text class=\"displacy-token\" fill=\"currentColor\" text-anchor=\"middle\" y=\"422.0\">\n",
              "    <tspan class=\"displacy-word\" fill=\"currentColor\" x=\"1250\">chez</tspan>\n",
              "    <tspan class=\"displacy-tag\" dy=\"2em\" fill=\"currentColor\" x=\"1250\">ADP</tspan>\n",
              "</text>\n",
              "\n",
              "<text class=\"displacy-token\" fill=\"currentColor\" text-anchor=\"middle\" y=\"422.0\">\n",
              "    <tspan class=\"displacy-word\" fill=\"currentColor\" x=\"1400\">Bouygues</tspan>\n",
              "    <tspan class=\"displacy-tag\" dy=\"2em\" fill=\"currentColor\" x=\"1400\">PROPN</tspan>\n",
              "</text>\n",
              "\n",
              "<text class=\"displacy-token\" fill=\"currentColor\" text-anchor=\"middle\" y=\"422.0\">\n",
              "    <tspan class=\"displacy-word\" fill=\"currentColor\" x=\"1550\">à</tspan>\n",
              "    <tspan class=\"displacy-tag\" dy=\"2em\" fill=\"currentColor\" x=\"1550\">ADP</tspan>\n",
              "</text>\n",
              "\n",
              "<text class=\"displacy-token\" fill=\"currentColor\" text-anchor=\"middle\" y=\"422.0\">\n",
              "    <tspan class=\"displacy-word\" fill=\"currentColor\" x=\"1700\">Marseille.</tspan>\n",
              "    <tspan class=\"displacy-tag\" dy=\"2em\" fill=\"currentColor\" x=\"1700\">PROPN</tspan>\n",
              "</text>\n",
              "\n",
              "<text class=\"displacy-token\" fill=\"currentColor\" text-anchor=\"middle\" y=\"422.0\">\n",
              "    <tspan class=\"displacy-word\" fill=\"currentColor\" x=\"1850\">Plus</tspan>\n",
              "    <tspan class=\"displacy-tag\" dy=\"2em\" fill=\"currentColor\" x=\"1850\">ADV</tspan>\n",
              "</text>\n",
              "\n",
              "<text class=\"displacy-token\" fill=\"currentColor\" text-anchor=\"middle\" y=\"422.0\">\n",
              "    <tspan class=\"displacy-word\" fill=\"currentColor\" x=\"2000\">\n",
              "</tspan>\n",
              "    <tspan class=\"displacy-tag\" dy=\"2em\" fill=\"currentColor\" x=\"2000\">SPACE</tspan>\n",
              "</text>\n",
              "\n",
              "<text class=\"displacy-token\" fill=\"currentColor\" text-anchor=\"middle\" y=\"422.0\">\n",
              "    <tspan class=\"displacy-word\" fill=\"currentColor\" x=\"2150\">de</tspan>\n",
              "    <tspan class=\"displacy-tag\" dy=\"2em\" fill=\"currentColor\" x=\"2150\">ADP</tspan>\n",
              "</text>\n",
              "\n",
              "<text class=\"displacy-token\" fill=\"currentColor\" text-anchor=\"middle\" y=\"422.0\">\n",
              "    <tspan class=\"displacy-word\" fill=\"currentColor\" x=\"2300\">300</tspan>\n",
              "    <tspan class=\"displacy-tag\" dy=\"2em\" fill=\"currentColor\" x=\"2300\">DET</tspan>\n",
              "</text>\n",
              "\n",
              "<text class=\"displacy-token\" fill=\"currentColor\" text-anchor=\"middle\" y=\"422.0\">\n",
              "    <tspan class=\"displacy-word\" fill=\"currentColor\" x=\"2450\">000</tspan>\n",
              "    <tspan class=\"displacy-tag\" dy=\"2em\" fill=\"currentColor\" x=\"2450\">DET</tspan>\n",
              "</text>\n",
              "\n",
              "<text class=\"displacy-token\" fill=\"currentColor\" text-anchor=\"middle\" y=\"422.0\">\n",
              "    <tspan class=\"displacy-word\" fill=\"currentColor\" x=\"2600\">utilisateurs</tspan>\n",
              "    <tspan class=\"displacy-tag\" dy=\"2em\" fill=\"currentColor\" x=\"2600\">NOUN</tspan>\n",
              "</text>\n",
              "\n",
              "<text class=\"displacy-token\" fill=\"currentColor\" text-anchor=\"middle\" y=\"422.0\">\n",
              "    <tspan class=\"displacy-word\" fill=\"currentColor\" x=\"2750\">ont</tspan>\n",
              "    <tspan class=\"displacy-tag\" dy=\"2em\" fill=\"currentColor\" x=\"2750\">AUX</tspan>\n",
              "</text>\n",
              "\n",
              "<text class=\"displacy-token\" fill=\"currentColor\" text-anchor=\"middle\" y=\"422.0\">\n",
              "    <tspan class=\"displacy-word\" fill=\"currentColor\" x=\"2900\">été</tspan>\n",
              "    <tspan class=\"displacy-tag\" dy=\"2em\" fill=\"currentColor\" x=\"2900\">AUX</tspan>\n",
              "</text>\n",
              "\n",
              "<text class=\"displacy-token\" fill=\"currentColor\" text-anchor=\"middle\" y=\"422.0\">\n",
              "    <tspan class=\"displacy-word\" fill=\"currentColor\" x=\"3050\">perturbés.</tspan>\n",
              "    <tspan class=\"displacy-tag\" dy=\"2em\" fill=\"currentColor\" x=\"3050\">VERB</tspan>\n",
              "</text>\n",
              "\n",
              "<g class=\"displacy-arrow\">\n",
              "    <path class=\"displacy-arc\" id=\"arrow-b963c170408649d083d53b60a08afdb0-0-0\" stroke-width=\"2px\" d=\"M62,377.0 62,302.0 494.0,302.0 494.0,377.0\" fill=\"none\" stroke=\"currentColor\"/>\n",
              "    <text dy=\"1.25em\" style=\"font-size: 0.8em; letter-spacing: 1px\">\n",
              "        <textPath xlink:href=\"#arrow-b963c170408649d083d53b60a08afdb0-0-0\" class=\"displacy-label\" startOffset=\"50%\" side=\"left\" fill=\"currentColor\" text-anchor=\"middle\">expl:subj</textPath>\n",
              "    </text>\n",
              "    <path class=\"displacy-arrowhead\" d=\"M62,379.0 L58,371.0 66,371.0\" fill=\"currentColor\"/>\n",
              "</g>\n",
              "\n",
              "<g class=\"displacy-arrow\">\n",
              "    <path class=\"displacy-arc\" id=\"arrow-b963c170408649d083d53b60a08afdb0-0-1\" stroke-width=\"2px\" d=\"M212,377.0 212,327.0 491.0,327.0 491.0,377.0\" fill=\"none\" stroke=\"currentColor\"/>\n",
              "    <text dy=\"1.25em\" style=\"font-size: 0.8em; letter-spacing: 1px\">\n",
              "        <textPath xlink:href=\"#arrow-b963c170408649d083d53b60a08afdb0-0-1\" class=\"displacy-label\" startOffset=\"50%\" side=\"left\" fill=\"currentColor\" text-anchor=\"middle\">iobj</textPath>\n",
              "    </text>\n",
              "    <path class=\"displacy-arrowhead\" d=\"M212,379.0 L208,371.0 216,371.0\" fill=\"currentColor\"/>\n",
              "</g>\n",
              "\n",
              "<g class=\"displacy-arrow\">\n",
              "    <path class=\"displacy-arc\" id=\"arrow-b963c170408649d083d53b60a08afdb0-0-2\" stroke-width=\"2px\" d=\"M362,377.0 362,352.0 488.0,352.0 488.0,377.0\" fill=\"none\" stroke=\"currentColor\"/>\n",
              "    <text dy=\"1.25em\" style=\"font-size: 0.8em; letter-spacing: 1px\">\n",
              "        <textPath xlink:href=\"#arrow-b963c170408649d083d53b60a08afdb0-0-2\" class=\"displacy-label\" startOffset=\"50%\" side=\"left\" fill=\"currentColor\" text-anchor=\"middle\">aux:tense</textPath>\n",
              "    </text>\n",
              "    <path class=\"displacy-arrowhead\" d=\"M362,379.0 L358,371.0 366,371.0\" fill=\"currentColor\"/>\n",
              "</g>\n",
              "\n",
              "<g class=\"displacy-arrow\">\n",
              "    <path class=\"displacy-arc\" id=\"arrow-b963c170408649d083d53b60a08afdb0-0-3\" stroke-width=\"2px\" d=\"M662,377.0 662,352.0 788.0,352.0 788.0,377.0\" fill=\"none\" stroke=\"currentColor\"/>\n",
              "    <text dy=\"1.25em\" style=\"font-size: 0.8em; letter-spacing: 1px\">\n",
              "        <textPath xlink:href=\"#arrow-b963c170408649d083d53b60a08afdb0-0-3\" class=\"displacy-label\" startOffset=\"50%\" side=\"left\" fill=\"currentColor\" text-anchor=\"middle\">det</textPath>\n",
              "    </text>\n",
              "    <path class=\"displacy-arrowhead\" d=\"M662,379.0 L658,371.0 666,371.0\" fill=\"currentColor\"/>\n",
              "</g>\n",
              "\n",
              "<g class=\"displacy-arrow\">\n",
              "    <path class=\"displacy-arc\" id=\"arrow-b963c170408649d083d53b60a08afdb0-0-4\" stroke-width=\"2px\" d=\"M512,377.0 512,327.0 791.0,327.0 791.0,377.0\" fill=\"none\" stroke=\"currentColor\"/>\n",
              "    <text dy=\"1.25em\" style=\"font-size: 0.8em; letter-spacing: 1px\">\n",
              "        <textPath xlink:href=\"#arrow-b963c170408649d083d53b60a08afdb0-0-4\" class=\"displacy-label\" startOffset=\"50%\" side=\"left\" fill=\"currentColor\" text-anchor=\"middle\">obj</textPath>\n",
              "    </text>\n",
              "    <path class=\"displacy-arrowhead\" d=\"M791.0,379.0 L795.0,371.0 787.0,371.0\" fill=\"currentColor\"/>\n",
              "</g>\n",
              "\n",
              "<g class=\"displacy-arrow\">\n",
              "    <path class=\"displacy-arc\" id=\"arrow-b963c170408649d083d53b60a08afdb0-0-5\" stroke-width=\"2px\" d=\"M962,377.0 962,352.0 1088.0,352.0 1088.0,377.0\" fill=\"none\" stroke=\"currentColor\"/>\n",
              "    <text dy=\"1.25em\" style=\"font-size: 0.8em; letter-spacing: 1px\">\n",
              "        <textPath xlink:href=\"#arrow-b963c170408649d083d53b60a08afdb0-0-5\" class=\"displacy-label\" startOffset=\"50%\" side=\"left\" fill=\"currentColor\" text-anchor=\"middle\">case</textPath>\n",
              "    </text>\n",
              "    <path class=\"displacy-arrowhead\" d=\"M962,379.0 L958,371.0 966,371.0\" fill=\"currentColor\"/>\n",
              "</g>\n",
              "\n",
              "<g class=\"displacy-arrow\">\n",
              "    <path class=\"displacy-arc\" id=\"arrow-b963c170408649d083d53b60a08afdb0-0-6\" stroke-width=\"2px\" d=\"M812,377.0 812,327.0 1091.0,327.0 1091.0,377.0\" fill=\"none\" stroke=\"currentColor\"/>\n",
              "    <text dy=\"1.25em\" style=\"font-size: 0.8em; letter-spacing: 1px\">\n",
              "        <textPath xlink:href=\"#arrow-b963c170408649d083d53b60a08afdb0-0-6\" class=\"displacy-label\" startOffset=\"50%\" side=\"left\" fill=\"currentColor\" text-anchor=\"middle\">nmod</textPath>\n",
              "    </text>\n",
              "    <path class=\"displacy-arrowhead\" d=\"M1091.0,379.0 L1095.0,371.0 1087.0,371.0\" fill=\"currentColor\"/>\n",
              "</g>\n",
              "\n",
              "<g class=\"displacy-arrow\">\n",
              "    <path class=\"displacy-arc\" id=\"arrow-b963c170408649d083d53b60a08afdb0-0-7\" stroke-width=\"2px\" d=\"M1262,377.0 1262,352.0 1388.0,352.0 1388.0,377.0\" fill=\"none\" stroke=\"currentColor\"/>\n",
              "    <text dy=\"1.25em\" style=\"font-size: 0.8em; letter-spacing: 1px\">\n",
              "        <textPath xlink:href=\"#arrow-b963c170408649d083d53b60a08afdb0-0-7\" class=\"displacy-label\" startOffset=\"50%\" side=\"left\" fill=\"currentColor\" text-anchor=\"middle\">case</textPath>\n",
              "    </text>\n",
              "    <path class=\"displacy-arrowhead\" d=\"M1262,379.0 L1258,371.0 1266,371.0\" fill=\"currentColor\"/>\n",
              "</g>\n",
              "\n",
              "<g class=\"displacy-arrow\">\n",
              "    <path class=\"displacy-arc\" id=\"arrow-b963c170408649d083d53b60a08afdb0-0-8\" stroke-width=\"2px\" d=\"M512,377.0 512,302.0 1394.0,302.0 1394.0,377.0\" fill=\"none\" stroke=\"currentColor\"/>\n",
              "    <text dy=\"1.25em\" style=\"font-size: 0.8em; letter-spacing: 1px\">\n",
              "        <textPath xlink:href=\"#arrow-b963c170408649d083d53b60a08afdb0-0-8\" class=\"displacy-label\" startOffset=\"50%\" side=\"left\" fill=\"currentColor\" text-anchor=\"middle\">obl:mod</textPath>\n",
              "    </text>\n",
              "    <path class=\"displacy-arrowhead\" d=\"M1394.0,379.0 L1398.0,371.0 1390.0,371.0\" fill=\"currentColor\"/>\n",
              "</g>\n",
              "\n",
              "<g class=\"displacy-arrow\">\n",
              "    <path class=\"displacy-arc\" id=\"arrow-b963c170408649d083d53b60a08afdb0-0-9\" stroke-width=\"2px\" d=\"M1562,377.0 1562,352.0 1688.0,352.0 1688.0,377.0\" fill=\"none\" stroke=\"currentColor\"/>\n",
              "    <text dy=\"1.25em\" style=\"font-size: 0.8em; letter-spacing: 1px\">\n",
              "        <textPath xlink:href=\"#arrow-b963c170408649d083d53b60a08afdb0-0-9\" class=\"displacy-label\" startOffset=\"50%\" side=\"left\" fill=\"currentColor\" text-anchor=\"middle\">case</textPath>\n",
              "    </text>\n",
              "    <path class=\"displacy-arrowhead\" d=\"M1562,379.0 L1558,371.0 1566,371.0\" fill=\"currentColor\"/>\n",
              "</g>\n",
              "\n",
              "<g class=\"displacy-arrow\">\n",
              "    <path class=\"displacy-arc\" id=\"arrow-b963c170408649d083d53b60a08afdb0-0-10\" stroke-width=\"2px\" d=\"M1412,377.0 1412,327.0 1691.0,327.0 1691.0,377.0\" fill=\"none\" stroke=\"currentColor\"/>\n",
              "    <text dy=\"1.25em\" style=\"font-size: 0.8em; letter-spacing: 1px\">\n",
              "        <textPath xlink:href=\"#arrow-b963c170408649d083d53b60a08afdb0-0-10\" class=\"displacy-label\" startOffset=\"50%\" side=\"left\" fill=\"currentColor\" text-anchor=\"middle\">nmod</textPath>\n",
              "    </text>\n",
              "    <path class=\"displacy-arrowhead\" d=\"M1691.0,379.0 L1695.0,371.0 1687.0,371.0\" fill=\"currentColor\"/>\n",
              "</g>\n",
              "\n",
              "<g class=\"displacy-arrow\">\n",
              "    <path class=\"displacy-arc\" id=\"arrow-b963c170408649d083d53b60a08afdb0-0-11\" stroke-width=\"2px\" d=\"M1862,377.0 1862,252.0 3050.0,252.0 3050.0,377.0\" fill=\"none\" stroke=\"currentColor\"/>\n",
              "    <text dy=\"1.25em\" style=\"font-size: 0.8em; letter-spacing: 1px\">\n",
              "        <textPath xlink:href=\"#arrow-b963c170408649d083d53b60a08afdb0-0-11\" class=\"displacy-label\" startOffset=\"50%\" side=\"left\" fill=\"currentColor\" text-anchor=\"middle\">advmod</textPath>\n",
              "    </text>\n",
              "    <path class=\"displacy-arrowhead\" d=\"M1862,379.0 L1858,371.0 1866,371.0\" fill=\"currentColor\"/>\n",
              "</g>\n",
              "\n",
              "<g class=\"displacy-arrow\">\n",
              "    <path class=\"displacy-arc\" id=\"arrow-b963c170408649d083d53b60a08afdb0-0-12\" stroke-width=\"2px\" d=\"M1862,377.0 1862,352.0 1988.0,352.0 1988.0,377.0\" fill=\"none\" stroke=\"currentColor\"/>\n",
              "    <text dy=\"1.25em\" style=\"font-size: 0.8em; letter-spacing: 1px\">\n",
              "        <textPath xlink:href=\"#arrow-b963c170408649d083d53b60a08afdb0-0-12\" class=\"displacy-label\" startOffset=\"50%\" side=\"left\" fill=\"currentColor\" text-anchor=\"middle\">dep</textPath>\n",
              "    </text>\n",
              "    <path class=\"displacy-arrowhead\" d=\"M1988.0,379.0 L1992.0,371.0 1984.0,371.0\" fill=\"currentColor\"/>\n",
              "</g>\n",
              "\n",
              "<g class=\"displacy-arrow\">\n",
              "    <path class=\"displacy-arc\" id=\"arrow-b963c170408649d083d53b60a08afdb0-0-13\" stroke-width=\"2px\" d=\"M2162,377.0 2162,302.0 2594.0,302.0 2594.0,377.0\" fill=\"none\" stroke=\"currentColor\"/>\n",
              "    <text dy=\"1.25em\" style=\"font-size: 0.8em; letter-spacing: 1px\">\n",
              "        <textPath xlink:href=\"#arrow-b963c170408649d083d53b60a08afdb0-0-13\" class=\"displacy-label\" startOffset=\"50%\" side=\"left\" fill=\"currentColor\" text-anchor=\"middle\">case</textPath>\n",
              "    </text>\n",
              "    <path class=\"displacy-arrowhead\" d=\"M2162,379.0 L2158,371.0 2166,371.0\" fill=\"currentColor\"/>\n",
              "</g>\n",
              "\n",
              "<g class=\"displacy-arrow\">\n",
              "    <path class=\"displacy-arc\" id=\"arrow-b963c170408649d083d53b60a08afdb0-0-14\" stroke-width=\"2px\" d=\"M2312,377.0 2312,327.0 2591.0,327.0 2591.0,377.0\" fill=\"none\" stroke=\"currentColor\"/>\n",
              "    <text dy=\"1.25em\" style=\"font-size: 0.8em; letter-spacing: 1px\">\n",
              "        <textPath xlink:href=\"#arrow-b963c170408649d083d53b60a08afdb0-0-14\" class=\"displacy-label\" startOffset=\"50%\" side=\"left\" fill=\"currentColor\" text-anchor=\"middle\">det</textPath>\n",
              "    </text>\n",
              "    <path class=\"displacy-arrowhead\" d=\"M2312,379.0 L2308,371.0 2316,371.0\" fill=\"currentColor\"/>\n",
              "</g>\n",
              "\n",
              "<g class=\"displacy-arrow\">\n",
              "    <path class=\"displacy-arc\" id=\"arrow-b963c170408649d083d53b60a08afdb0-0-15\" stroke-width=\"2px\" d=\"M2312,377.0 2312,352.0 2438.0,352.0 2438.0,377.0\" fill=\"none\" stroke=\"currentColor\"/>\n",
              "    <text dy=\"1.25em\" style=\"font-size: 0.8em; letter-spacing: 1px\">\n",
              "        <textPath xlink:href=\"#arrow-b963c170408649d083d53b60a08afdb0-0-15\" class=\"displacy-label\" startOffset=\"50%\" side=\"left\" fill=\"currentColor\" text-anchor=\"middle\">fixed</textPath>\n",
              "    </text>\n",
              "    <path class=\"displacy-arrowhead\" d=\"M2438.0,379.0 L2442.0,371.0 2434.0,371.0\" fill=\"currentColor\"/>\n",
              "</g>\n",
              "\n",
              "<g class=\"displacy-arrow\">\n",
              "    <path class=\"displacy-arc\" id=\"arrow-b963c170408649d083d53b60a08afdb0-0-16\" stroke-width=\"2px\" d=\"M1862,377.0 1862,277.0 2597.0,277.0 2597.0,377.0\" fill=\"none\" stroke=\"currentColor\"/>\n",
              "    <text dy=\"1.25em\" style=\"font-size: 0.8em; letter-spacing: 1px\">\n",
              "        <textPath xlink:href=\"#arrow-b963c170408649d083d53b60a08afdb0-0-16\" class=\"displacy-label\" startOffset=\"50%\" side=\"left\" fill=\"currentColor\" text-anchor=\"middle\">obl:arg</textPath>\n",
              "    </text>\n",
              "    <path class=\"displacy-arrowhead\" d=\"M2597.0,379.0 L2601.0,371.0 2593.0,371.0\" fill=\"currentColor\"/>\n",
              "</g>\n",
              "\n",
              "<g class=\"displacy-arrow\">\n",
              "    <path class=\"displacy-arc\" id=\"arrow-b963c170408649d083d53b60a08afdb0-0-17\" stroke-width=\"2px\" d=\"M2762,377.0 2762,327.0 3041.0,327.0 3041.0,377.0\" fill=\"none\" stroke=\"currentColor\"/>\n",
              "    <text dy=\"1.25em\" style=\"font-size: 0.8em; letter-spacing: 1px\">\n",
              "        <textPath xlink:href=\"#arrow-b963c170408649d083d53b60a08afdb0-0-17\" class=\"displacy-label\" startOffset=\"50%\" side=\"left\" fill=\"currentColor\" text-anchor=\"middle\">aux:tense</textPath>\n",
              "    </text>\n",
              "    <path class=\"displacy-arrowhead\" d=\"M2762,379.0 L2758,371.0 2766,371.0\" fill=\"currentColor\"/>\n",
              "</g>\n",
              "\n",
              "<g class=\"displacy-arrow\">\n",
              "    <path class=\"displacy-arc\" id=\"arrow-b963c170408649d083d53b60a08afdb0-0-18\" stroke-width=\"2px\" d=\"M2912,377.0 2912,352.0 3038.0,352.0 3038.0,377.0\" fill=\"none\" stroke=\"currentColor\"/>\n",
              "    <text dy=\"1.25em\" style=\"font-size: 0.8em; letter-spacing: 1px\">\n",
              "        <textPath xlink:href=\"#arrow-b963c170408649d083d53b60a08afdb0-0-18\" class=\"displacy-label\" startOffset=\"50%\" side=\"left\" fill=\"currentColor\" text-anchor=\"middle\">aux:pass</textPath>\n",
              "    </text>\n",
              "    <path class=\"displacy-arrowhead\" d=\"M2912,379.0 L2908,371.0 2916,371.0\" fill=\"currentColor\"/>\n",
              "</g>\n",
              "</svg></span>"
            ]
          },
          "metadata": {}
        }
      ],
      "source": [
        "doc = nlp(test)\n",
        "from spacy import displacy\n",
        "\n",
        "# Customize options to display a shorter parse tree\n",
        "options = {\n",
        "    \"compact\": True,\n",
        "    \"color\": \"blue\",\n",
        "    \"bg\": \"#ffffff\",\n",
        "    \"font\": \"Arial\",\n",
        "    \"arrow_stroke\": 2,\n",
        "}\n",
        "\n",
        "# Render the visualization with customized options\n",
        "displacy.render(doc, style=\"dep\", options=options, jupyter=True)"
      ]
    },
    {
      "cell_type": "code",
      "source": [
        "# Render the visualization without customized options\n",
        "displacy.render(doc, style=\"dep\", jupyter=True)"
      ],
      "metadata": {
        "colab": {
          "base_uri": "https://localhost:8080/",
          "height": 617
        },
        "id": "OcE0lHQqAX_T",
        "outputId": "ddbbdb94-d427-48ba-dc9f-0c9f64a6868f"
      },
      "id": "OcE0lHQqAX_T",
      "execution_count": 26,
      "outputs": [
        {
          "output_type": "display_data",
          "data": {
            "text/plain": [
              "<IPython.core.display.HTML object>"
            ],
            "text/html": [
              "<span class=\"tex2jax_ignore\"><svg xmlns=\"http://www.w3.org/2000/svg\" xmlns:xlink=\"http://www.w3.org/1999/xlink\" xml:lang=\"fr\" id=\"1e29e6735dbc42cf90a1c75d68fb54c7-0\" class=\"displacy\" width=\"3725\" height=\"574.5\" direction=\"ltr\" style=\"max-width: none; height: 574.5px; color: #000000; background: #ffffff; font-family: Arial; direction: ltr\">\n",
              "<text class=\"displacy-token\" fill=\"currentColor\" text-anchor=\"middle\" y=\"484.5\">\n",
              "    <tspan class=\"displacy-word\" fill=\"currentColor\" x=\"50\">Il</tspan>\n",
              "    <tspan class=\"displacy-tag\" dy=\"2em\" fill=\"currentColor\" x=\"50\">PRON</tspan>\n",
              "</text>\n",
              "\n",
              "<text class=\"displacy-token\" fill=\"currentColor\" text-anchor=\"middle\" y=\"484.5\">\n",
              "    <tspan class=\"displacy-word\" fill=\"currentColor\" x=\"225\">y</tspan>\n",
              "    <tspan class=\"displacy-tag\" dy=\"2em\" fill=\"currentColor\" x=\"225\">PRON</tspan>\n",
              "</text>\n",
              "\n",
              "<text class=\"displacy-token\" fill=\"currentColor\" text-anchor=\"middle\" y=\"484.5\">\n",
              "    <tspan class=\"displacy-word\" fill=\"currentColor\" x=\"400\">a</tspan>\n",
              "    <tspan class=\"displacy-tag\" dy=\"2em\" fill=\"currentColor\" x=\"400\">AUX</tspan>\n",
              "</text>\n",
              "\n",
              "<text class=\"displacy-token\" fill=\"currentColor\" text-anchor=\"middle\" y=\"484.5\">\n",
              "    <tspan class=\"displacy-word\" fill=\"currentColor\" x=\"575\">eu</tspan>\n",
              "    <tspan class=\"displacy-tag\" dy=\"2em\" fill=\"currentColor\" x=\"575\">VERB</tspan>\n",
              "</text>\n",
              "\n",
              "<text class=\"displacy-token\" fill=\"currentColor\" text-anchor=\"middle\" y=\"484.5\">\n",
              "    <tspan class=\"displacy-word\" fill=\"currentColor\" x=\"750\">une</tspan>\n",
              "    <tspan class=\"displacy-tag\" dy=\"2em\" fill=\"currentColor\" x=\"750\">DET</tspan>\n",
              "</text>\n",
              "\n",
              "<text class=\"displacy-token\" fill=\"currentColor\" text-anchor=\"middle\" y=\"484.5\">\n",
              "    <tspan class=\"displacy-word\" fill=\"currentColor\" x=\"925\">interruption</tspan>\n",
              "    <tspan class=\"displacy-tag\" dy=\"2em\" fill=\"currentColor\" x=\"925\">NOUN</tspan>\n",
              "</text>\n",
              "\n",
              "<text class=\"displacy-token\" fill=\"currentColor\" text-anchor=\"middle\" y=\"484.5\">\n",
              "    <tspan class=\"displacy-word\" fill=\"currentColor\" x=\"1100\">de</tspan>\n",
              "    <tspan class=\"displacy-tag\" dy=\"2em\" fill=\"currentColor\" x=\"1100\">ADP</tspan>\n",
              "</text>\n",
              "\n",
              "<text class=\"displacy-token\" fill=\"currentColor\" text-anchor=\"middle\" y=\"484.5\">\n",
              "    <tspan class=\"displacy-word\" fill=\"currentColor\" x=\"1275\">service</tspan>\n",
              "    <tspan class=\"displacy-tag\" dy=\"2em\" fill=\"currentColor\" x=\"1275\">NOUN</tspan>\n",
              "</text>\n",
              "\n",
              "<text class=\"displacy-token\" fill=\"currentColor\" text-anchor=\"middle\" y=\"484.5\">\n",
              "    <tspan class=\"displacy-word\" fill=\"currentColor\" x=\"1450\">chez</tspan>\n",
              "    <tspan class=\"displacy-tag\" dy=\"2em\" fill=\"currentColor\" x=\"1450\">ADP</tspan>\n",
              "</text>\n",
              "\n",
              "<text class=\"displacy-token\" fill=\"currentColor\" text-anchor=\"middle\" y=\"484.5\">\n",
              "    <tspan class=\"displacy-word\" fill=\"currentColor\" x=\"1625\">Bouygues</tspan>\n",
              "    <tspan class=\"displacy-tag\" dy=\"2em\" fill=\"currentColor\" x=\"1625\">PROPN</tspan>\n",
              "</text>\n",
              "\n",
              "<text class=\"displacy-token\" fill=\"currentColor\" text-anchor=\"middle\" y=\"484.5\">\n",
              "    <tspan class=\"displacy-word\" fill=\"currentColor\" x=\"1800\">à</tspan>\n",
              "    <tspan class=\"displacy-tag\" dy=\"2em\" fill=\"currentColor\" x=\"1800\">ADP</tspan>\n",
              "</text>\n",
              "\n",
              "<text class=\"displacy-token\" fill=\"currentColor\" text-anchor=\"middle\" y=\"484.5\">\n",
              "    <tspan class=\"displacy-word\" fill=\"currentColor\" x=\"1975\">Marseille.</tspan>\n",
              "    <tspan class=\"displacy-tag\" dy=\"2em\" fill=\"currentColor\" x=\"1975\">PROPN</tspan>\n",
              "</text>\n",
              "\n",
              "<text class=\"displacy-token\" fill=\"currentColor\" text-anchor=\"middle\" y=\"484.5\">\n",
              "    <tspan class=\"displacy-word\" fill=\"currentColor\" x=\"2150\">Plus</tspan>\n",
              "    <tspan class=\"displacy-tag\" dy=\"2em\" fill=\"currentColor\" x=\"2150\">ADV</tspan>\n",
              "</text>\n",
              "\n",
              "<text class=\"displacy-token\" fill=\"currentColor\" text-anchor=\"middle\" y=\"484.5\">\n",
              "    <tspan class=\"displacy-word\" fill=\"currentColor\" x=\"2325\">\n",
              "</tspan>\n",
              "    <tspan class=\"displacy-tag\" dy=\"2em\" fill=\"currentColor\" x=\"2325\">SPACE</tspan>\n",
              "</text>\n",
              "\n",
              "<text class=\"displacy-token\" fill=\"currentColor\" text-anchor=\"middle\" y=\"484.5\">\n",
              "    <tspan class=\"displacy-word\" fill=\"currentColor\" x=\"2500\">de</tspan>\n",
              "    <tspan class=\"displacy-tag\" dy=\"2em\" fill=\"currentColor\" x=\"2500\">ADP</tspan>\n",
              "</text>\n",
              "\n",
              "<text class=\"displacy-token\" fill=\"currentColor\" text-anchor=\"middle\" y=\"484.5\">\n",
              "    <tspan class=\"displacy-word\" fill=\"currentColor\" x=\"2675\">300</tspan>\n",
              "    <tspan class=\"displacy-tag\" dy=\"2em\" fill=\"currentColor\" x=\"2675\">DET</tspan>\n",
              "</text>\n",
              "\n",
              "<text class=\"displacy-token\" fill=\"currentColor\" text-anchor=\"middle\" y=\"484.5\">\n",
              "    <tspan class=\"displacy-word\" fill=\"currentColor\" x=\"2850\">000</tspan>\n",
              "    <tspan class=\"displacy-tag\" dy=\"2em\" fill=\"currentColor\" x=\"2850\">DET</tspan>\n",
              "</text>\n",
              "\n",
              "<text class=\"displacy-token\" fill=\"currentColor\" text-anchor=\"middle\" y=\"484.5\">\n",
              "    <tspan class=\"displacy-word\" fill=\"currentColor\" x=\"3025\">utilisateurs</tspan>\n",
              "    <tspan class=\"displacy-tag\" dy=\"2em\" fill=\"currentColor\" x=\"3025\">NOUN</tspan>\n",
              "</text>\n",
              "\n",
              "<text class=\"displacy-token\" fill=\"currentColor\" text-anchor=\"middle\" y=\"484.5\">\n",
              "    <tspan class=\"displacy-word\" fill=\"currentColor\" x=\"3200\">ont</tspan>\n",
              "    <tspan class=\"displacy-tag\" dy=\"2em\" fill=\"currentColor\" x=\"3200\">AUX</tspan>\n",
              "</text>\n",
              "\n",
              "<text class=\"displacy-token\" fill=\"currentColor\" text-anchor=\"middle\" y=\"484.5\">\n",
              "    <tspan class=\"displacy-word\" fill=\"currentColor\" x=\"3375\">été</tspan>\n",
              "    <tspan class=\"displacy-tag\" dy=\"2em\" fill=\"currentColor\" x=\"3375\">AUX</tspan>\n",
              "</text>\n",
              "\n",
              "<text class=\"displacy-token\" fill=\"currentColor\" text-anchor=\"middle\" y=\"484.5\">\n",
              "    <tspan class=\"displacy-word\" fill=\"currentColor\" x=\"3550\">perturbés.</tspan>\n",
              "    <tspan class=\"displacy-tag\" dy=\"2em\" fill=\"currentColor\" x=\"3550\">VERB</tspan>\n",
              "</text>\n",
              "\n",
              "<g class=\"displacy-arrow\">\n",
              "    <path class=\"displacy-arc\" id=\"arrow-1e29e6735dbc42cf90a1c75d68fb54c7-0-0\" stroke-width=\"2px\" d=\"M70,439.5 C70,177.0 565.0,177.0 565.0,439.5\" fill=\"none\" stroke=\"currentColor\"/>\n",
              "    <text dy=\"1.25em\" style=\"font-size: 0.8em; letter-spacing: 1px\">\n",
              "        <textPath xlink:href=\"#arrow-1e29e6735dbc42cf90a1c75d68fb54c7-0-0\" class=\"displacy-label\" startOffset=\"50%\" side=\"left\" fill=\"currentColor\" text-anchor=\"middle\">expl:subj</textPath>\n",
              "    </text>\n",
              "    <path class=\"displacy-arrowhead\" d=\"M70,441.5 L62,429.5 78,429.5\" fill=\"currentColor\"/>\n",
              "</g>\n",
              "\n",
              "<g class=\"displacy-arrow\">\n",
              "    <path class=\"displacy-arc\" id=\"arrow-1e29e6735dbc42cf90a1c75d68fb54c7-0-1\" stroke-width=\"2px\" d=\"M245,439.5 C245,264.5 560.0,264.5 560.0,439.5\" fill=\"none\" stroke=\"currentColor\"/>\n",
              "    <text dy=\"1.25em\" style=\"font-size: 0.8em; letter-spacing: 1px\">\n",
              "        <textPath xlink:href=\"#arrow-1e29e6735dbc42cf90a1c75d68fb54c7-0-1\" class=\"displacy-label\" startOffset=\"50%\" side=\"left\" fill=\"currentColor\" text-anchor=\"middle\">iobj</textPath>\n",
              "    </text>\n",
              "    <path class=\"displacy-arrowhead\" d=\"M245,441.5 L237,429.5 253,429.5\" fill=\"currentColor\"/>\n",
              "</g>\n",
              "\n",
              "<g class=\"displacy-arrow\">\n",
              "    <path class=\"displacy-arc\" id=\"arrow-1e29e6735dbc42cf90a1c75d68fb54c7-0-2\" stroke-width=\"2px\" d=\"M420,439.5 C420,352.0 555.0,352.0 555.0,439.5\" fill=\"none\" stroke=\"currentColor\"/>\n",
              "    <text dy=\"1.25em\" style=\"font-size: 0.8em; letter-spacing: 1px\">\n",
              "        <textPath xlink:href=\"#arrow-1e29e6735dbc42cf90a1c75d68fb54c7-0-2\" class=\"displacy-label\" startOffset=\"50%\" side=\"left\" fill=\"currentColor\" text-anchor=\"middle\">aux:tense</textPath>\n",
              "    </text>\n",
              "    <path class=\"displacy-arrowhead\" d=\"M420,441.5 L412,429.5 428,429.5\" fill=\"currentColor\"/>\n",
              "</g>\n",
              "\n",
              "<g class=\"displacy-arrow\">\n",
              "    <path class=\"displacy-arc\" id=\"arrow-1e29e6735dbc42cf90a1c75d68fb54c7-0-3\" stroke-width=\"2px\" d=\"M770,439.5 C770,352.0 905.0,352.0 905.0,439.5\" fill=\"none\" stroke=\"currentColor\"/>\n",
              "    <text dy=\"1.25em\" style=\"font-size: 0.8em; letter-spacing: 1px\">\n",
              "        <textPath xlink:href=\"#arrow-1e29e6735dbc42cf90a1c75d68fb54c7-0-3\" class=\"displacy-label\" startOffset=\"50%\" side=\"left\" fill=\"currentColor\" text-anchor=\"middle\">det</textPath>\n",
              "    </text>\n",
              "    <path class=\"displacy-arrowhead\" d=\"M770,441.5 L762,429.5 778,429.5\" fill=\"currentColor\"/>\n",
              "</g>\n",
              "\n",
              "<g class=\"displacy-arrow\">\n",
              "    <path class=\"displacy-arc\" id=\"arrow-1e29e6735dbc42cf90a1c75d68fb54c7-0-4\" stroke-width=\"2px\" d=\"M595,439.5 C595,264.5 910.0,264.5 910.0,439.5\" fill=\"none\" stroke=\"currentColor\"/>\n",
              "    <text dy=\"1.25em\" style=\"font-size: 0.8em; letter-spacing: 1px\">\n",
              "        <textPath xlink:href=\"#arrow-1e29e6735dbc42cf90a1c75d68fb54c7-0-4\" class=\"displacy-label\" startOffset=\"50%\" side=\"left\" fill=\"currentColor\" text-anchor=\"middle\">obj</textPath>\n",
              "    </text>\n",
              "    <path class=\"displacy-arrowhead\" d=\"M910.0,441.5 L918.0,429.5 902.0,429.5\" fill=\"currentColor\"/>\n",
              "</g>\n",
              "\n",
              "<g class=\"displacy-arrow\">\n",
              "    <path class=\"displacy-arc\" id=\"arrow-1e29e6735dbc42cf90a1c75d68fb54c7-0-5\" stroke-width=\"2px\" d=\"M1120,439.5 C1120,352.0 1255.0,352.0 1255.0,439.5\" fill=\"none\" stroke=\"currentColor\"/>\n",
              "    <text dy=\"1.25em\" style=\"font-size: 0.8em; letter-spacing: 1px\">\n",
              "        <textPath xlink:href=\"#arrow-1e29e6735dbc42cf90a1c75d68fb54c7-0-5\" class=\"displacy-label\" startOffset=\"50%\" side=\"left\" fill=\"currentColor\" text-anchor=\"middle\">case</textPath>\n",
              "    </text>\n",
              "    <path class=\"displacy-arrowhead\" d=\"M1120,441.5 L1112,429.5 1128,429.5\" fill=\"currentColor\"/>\n",
              "</g>\n",
              "\n",
              "<g class=\"displacy-arrow\">\n",
              "    <path class=\"displacy-arc\" id=\"arrow-1e29e6735dbc42cf90a1c75d68fb54c7-0-6\" stroke-width=\"2px\" d=\"M945,439.5 C945,264.5 1260.0,264.5 1260.0,439.5\" fill=\"none\" stroke=\"currentColor\"/>\n",
              "    <text dy=\"1.25em\" style=\"font-size: 0.8em; letter-spacing: 1px\">\n",
              "        <textPath xlink:href=\"#arrow-1e29e6735dbc42cf90a1c75d68fb54c7-0-6\" class=\"displacy-label\" startOffset=\"50%\" side=\"left\" fill=\"currentColor\" text-anchor=\"middle\">nmod</textPath>\n",
              "    </text>\n",
              "    <path class=\"displacy-arrowhead\" d=\"M1260.0,441.5 L1268.0,429.5 1252.0,429.5\" fill=\"currentColor\"/>\n",
              "</g>\n",
              "\n",
              "<g class=\"displacy-arrow\">\n",
              "    <path class=\"displacy-arc\" id=\"arrow-1e29e6735dbc42cf90a1c75d68fb54c7-0-7\" stroke-width=\"2px\" d=\"M1470,439.5 C1470,352.0 1605.0,352.0 1605.0,439.5\" fill=\"none\" stroke=\"currentColor\"/>\n",
              "    <text dy=\"1.25em\" style=\"font-size: 0.8em; letter-spacing: 1px\">\n",
              "        <textPath xlink:href=\"#arrow-1e29e6735dbc42cf90a1c75d68fb54c7-0-7\" class=\"displacy-label\" startOffset=\"50%\" side=\"left\" fill=\"currentColor\" text-anchor=\"middle\">case</textPath>\n",
              "    </text>\n",
              "    <path class=\"displacy-arrowhead\" d=\"M1470,441.5 L1462,429.5 1478,429.5\" fill=\"currentColor\"/>\n",
              "</g>\n",
              "\n",
              "<g class=\"displacy-arrow\">\n",
              "    <path class=\"displacy-arc\" id=\"arrow-1e29e6735dbc42cf90a1c75d68fb54c7-0-8\" stroke-width=\"2px\" d=\"M595,439.5 C595,177.0 1615.0,177.0 1615.0,439.5\" fill=\"none\" stroke=\"currentColor\"/>\n",
              "    <text dy=\"1.25em\" style=\"font-size: 0.8em; letter-spacing: 1px\">\n",
              "        <textPath xlink:href=\"#arrow-1e29e6735dbc42cf90a1c75d68fb54c7-0-8\" class=\"displacy-label\" startOffset=\"50%\" side=\"left\" fill=\"currentColor\" text-anchor=\"middle\">obl:mod</textPath>\n",
              "    </text>\n",
              "    <path class=\"displacy-arrowhead\" d=\"M1615.0,441.5 L1623.0,429.5 1607.0,429.5\" fill=\"currentColor\"/>\n",
              "</g>\n",
              "\n",
              "<g class=\"displacy-arrow\">\n",
              "    <path class=\"displacy-arc\" id=\"arrow-1e29e6735dbc42cf90a1c75d68fb54c7-0-9\" stroke-width=\"2px\" d=\"M1820,439.5 C1820,352.0 1955.0,352.0 1955.0,439.5\" fill=\"none\" stroke=\"currentColor\"/>\n",
              "    <text dy=\"1.25em\" style=\"font-size: 0.8em; letter-spacing: 1px\">\n",
              "        <textPath xlink:href=\"#arrow-1e29e6735dbc42cf90a1c75d68fb54c7-0-9\" class=\"displacy-label\" startOffset=\"50%\" side=\"left\" fill=\"currentColor\" text-anchor=\"middle\">case</textPath>\n",
              "    </text>\n",
              "    <path class=\"displacy-arrowhead\" d=\"M1820,441.5 L1812,429.5 1828,429.5\" fill=\"currentColor\"/>\n",
              "</g>\n",
              "\n",
              "<g class=\"displacy-arrow\">\n",
              "    <path class=\"displacy-arc\" id=\"arrow-1e29e6735dbc42cf90a1c75d68fb54c7-0-10\" stroke-width=\"2px\" d=\"M1645,439.5 C1645,264.5 1960.0,264.5 1960.0,439.5\" fill=\"none\" stroke=\"currentColor\"/>\n",
              "    <text dy=\"1.25em\" style=\"font-size: 0.8em; letter-spacing: 1px\">\n",
              "        <textPath xlink:href=\"#arrow-1e29e6735dbc42cf90a1c75d68fb54c7-0-10\" class=\"displacy-label\" startOffset=\"50%\" side=\"left\" fill=\"currentColor\" text-anchor=\"middle\">nmod</textPath>\n",
              "    </text>\n",
              "    <path class=\"displacy-arrowhead\" d=\"M1960.0,441.5 L1968.0,429.5 1952.0,429.5\" fill=\"currentColor\"/>\n",
              "</g>\n",
              "\n",
              "<g class=\"displacy-arrow\">\n",
              "    <path class=\"displacy-arc\" id=\"arrow-1e29e6735dbc42cf90a1c75d68fb54c7-0-11\" stroke-width=\"2px\" d=\"M2170,439.5 C2170,2.0 3550.0,2.0 3550.0,439.5\" fill=\"none\" stroke=\"currentColor\"/>\n",
              "    <text dy=\"1.25em\" style=\"font-size: 0.8em; letter-spacing: 1px\">\n",
              "        <textPath xlink:href=\"#arrow-1e29e6735dbc42cf90a1c75d68fb54c7-0-11\" class=\"displacy-label\" startOffset=\"50%\" side=\"left\" fill=\"currentColor\" text-anchor=\"middle\">advmod</textPath>\n",
              "    </text>\n",
              "    <path class=\"displacy-arrowhead\" d=\"M2170,441.5 L2162,429.5 2178,429.5\" fill=\"currentColor\"/>\n",
              "</g>\n",
              "\n",
              "<g class=\"displacy-arrow\">\n",
              "    <path class=\"displacy-arc\" id=\"arrow-1e29e6735dbc42cf90a1c75d68fb54c7-0-12\" stroke-width=\"2px\" d=\"M2170,439.5 C2170,352.0 2305.0,352.0 2305.0,439.5\" fill=\"none\" stroke=\"currentColor\"/>\n",
              "    <text dy=\"1.25em\" style=\"font-size: 0.8em; letter-spacing: 1px\">\n",
              "        <textPath xlink:href=\"#arrow-1e29e6735dbc42cf90a1c75d68fb54c7-0-12\" class=\"displacy-label\" startOffset=\"50%\" side=\"left\" fill=\"currentColor\" text-anchor=\"middle\">dep</textPath>\n",
              "    </text>\n",
              "    <path class=\"displacy-arrowhead\" d=\"M2305.0,441.5 L2313.0,429.5 2297.0,429.5\" fill=\"currentColor\"/>\n",
              "</g>\n",
              "\n",
              "<g class=\"displacy-arrow\">\n",
              "    <path class=\"displacy-arc\" id=\"arrow-1e29e6735dbc42cf90a1c75d68fb54c7-0-13\" stroke-width=\"2px\" d=\"M2520,439.5 C2520,177.0 3015.0,177.0 3015.0,439.5\" fill=\"none\" stroke=\"currentColor\"/>\n",
              "    <text dy=\"1.25em\" style=\"font-size: 0.8em; letter-spacing: 1px\">\n",
              "        <textPath xlink:href=\"#arrow-1e29e6735dbc42cf90a1c75d68fb54c7-0-13\" class=\"displacy-label\" startOffset=\"50%\" side=\"left\" fill=\"currentColor\" text-anchor=\"middle\">case</textPath>\n",
              "    </text>\n",
              "    <path class=\"displacy-arrowhead\" d=\"M2520,441.5 L2512,429.5 2528,429.5\" fill=\"currentColor\"/>\n",
              "</g>\n",
              "\n",
              "<g class=\"displacy-arrow\">\n",
              "    <path class=\"displacy-arc\" id=\"arrow-1e29e6735dbc42cf90a1c75d68fb54c7-0-14\" stroke-width=\"2px\" d=\"M2695,439.5 C2695,264.5 3010.0,264.5 3010.0,439.5\" fill=\"none\" stroke=\"currentColor\"/>\n",
              "    <text dy=\"1.25em\" style=\"font-size: 0.8em; letter-spacing: 1px\">\n",
              "        <textPath xlink:href=\"#arrow-1e29e6735dbc42cf90a1c75d68fb54c7-0-14\" class=\"displacy-label\" startOffset=\"50%\" side=\"left\" fill=\"currentColor\" text-anchor=\"middle\">det</textPath>\n",
              "    </text>\n",
              "    <path class=\"displacy-arrowhead\" d=\"M2695,441.5 L2687,429.5 2703,429.5\" fill=\"currentColor\"/>\n",
              "</g>\n",
              "\n",
              "<g class=\"displacy-arrow\">\n",
              "    <path class=\"displacy-arc\" id=\"arrow-1e29e6735dbc42cf90a1c75d68fb54c7-0-15\" stroke-width=\"2px\" d=\"M2695,439.5 C2695,352.0 2830.0,352.0 2830.0,439.5\" fill=\"none\" stroke=\"currentColor\"/>\n",
              "    <text dy=\"1.25em\" style=\"font-size: 0.8em; letter-spacing: 1px\">\n",
              "        <textPath xlink:href=\"#arrow-1e29e6735dbc42cf90a1c75d68fb54c7-0-15\" class=\"displacy-label\" startOffset=\"50%\" side=\"left\" fill=\"currentColor\" text-anchor=\"middle\">fixed</textPath>\n",
              "    </text>\n",
              "    <path class=\"displacy-arrowhead\" d=\"M2830.0,441.5 L2838.0,429.5 2822.0,429.5\" fill=\"currentColor\"/>\n",
              "</g>\n",
              "\n",
              "<g class=\"displacy-arrow\">\n",
              "    <path class=\"displacy-arc\" id=\"arrow-1e29e6735dbc42cf90a1c75d68fb54c7-0-16\" stroke-width=\"2px\" d=\"M2170,439.5 C2170,89.5 3020.0,89.5 3020.0,439.5\" fill=\"none\" stroke=\"currentColor\"/>\n",
              "    <text dy=\"1.25em\" style=\"font-size: 0.8em; letter-spacing: 1px\">\n",
              "        <textPath xlink:href=\"#arrow-1e29e6735dbc42cf90a1c75d68fb54c7-0-16\" class=\"displacy-label\" startOffset=\"50%\" side=\"left\" fill=\"currentColor\" text-anchor=\"middle\">obl:arg</textPath>\n",
              "    </text>\n",
              "    <path class=\"displacy-arrowhead\" d=\"M3020.0,441.5 L3028.0,429.5 3012.0,429.5\" fill=\"currentColor\"/>\n",
              "</g>\n",
              "\n",
              "<g class=\"displacy-arrow\">\n",
              "    <path class=\"displacy-arc\" id=\"arrow-1e29e6735dbc42cf90a1c75d68fb54c7-0-17\" stroke-width=\"2px\" d=\"M3220,439.5 C3220,264.5 3535.0,264.5 3535.0,439.5\" fill=\"none\" stroke=\"currentColor\"/>\n",
              "    <text dy=\"1.25em\" style=\"font-size: 0.8em; letter-spacing: 1px\">\n",
              "        <textPath xlink:href=\"#arrow-1e29e6735dbc42cf90a1c75d68fb54c7-0-17\" class=\"displacy-label\" startOffset=\"50%\" side=\"left\" fill=\"currentColor\" text-anchor=\"middle\">aux:tense</textPath>\n",
              "    </text>\n",
              "    <path class=\"displacy-arrowhead\" d=\"M3220,441.5 L3212,429.5 3228,429.5\" fill=\"currentColor\"/>\n",
              "</g>\n",
              "\n",
              "<g class=\"displacy-arrow\">\n",
              "    <path class=\"displacy-arc\" id=\"arrow-1e29e6735dbc42cf90a1c75d68fb54c7-0-18\" stroke-width=\"2px\" d=\"M3395,439.5 C3395,352.0 3530.0,352.0 3530.0,439.5\" fill=\"none\" stroke=\"currentColor\"/>\n",
              "    <text dy=\"1.25em\" style=\"font-size: 0.8em; letter-spacing: 1px\">\n",
              "        <textPath xlink:href=\"#arrow-1e29e6735dbc42cf90a1c75d68fb54c7-0-18\" class=\"displacy-label\" startOffset=\"50%\" side=\"left\" fill=\"currentColor\" text-anchor=\"middle\">aux:pass</textPath>\n",
              "    </text>\n",
              "    <path class=\"displacy-arrowhead\" d=\"M3395,441.5 L3387,429.5 3403,429.5\" fill=\"currentColor\"/>\n",
              "</g>\n",
              "</svg></span>"
            ]
          },
          "metadata": {}
        }
      ]
    },
    {
      "cell_type": "code",
      "execution_count": 21,
      "id": "cd6c8c0a",
      "metadata": {
        "id": "cd6c8c0a"
      },
      "outputs": [],
      "source": [
        "import numpy as np\n",
        "def return_word_embedding(sentence):\n",
        " # Tokeniser la phrase\n",
        " doc = nlp(sentence)\n",
        " # Retourner le vecteur lié à chaque token\n",
        " return [(X.vector) for X in doc]"
      ]
    },
    {
      "cell_type": "code",
      "execution_count": 22,
      "id": "39db791a",
      "metadata": {
        "colab": {
          "base_uri": "https://localhost:8080/"
        },
        "id": "39db791a",
        "outputId": "cefe15e9-84e1-4bc4-cdd9-d99f9a5c0030"
      },
      "outputs": [
        {
          "output_type": "execute_result",
          "data": {
            "text/plain": [
              "[array([-8.544528  , -3.054603  ,  0.29717004,  4.697859  ,  0.2045033 ,\n",
              "        -6.040577  , -0.98203474, -6.155433  ,  0.92760277,  0.7205181 ,\n",
              "        -3.4390583 ,  0.10784715, -4.3482733 , -1.1173272 , -1.8116753 ,\n",
              "         3.118063  ,  2.7947009 , -2.2724197 ,  5.1902814 ,  0.15629542,\n",
              "        -2.089182  , 10.679247  , -1.6806105 ,  0.3618018 ,  0.50679743,\n",
              "        -2.2405941 ,  3.019611  ,  2.3046381 ,  4.390358  ,  4.7051105 ,\n",
              "        -0.9612024 ,  4.0113926 , -0.5443527 , -2.5624614 , -6.1206903 ,\n",
              "         5.3175955 , -5.272794  , -1.7475646 ,  3.0929432 ,  1.6841921 ,\n",
              "        -3.5409484 , -2.0674014 , -0.9297133 ,  3.0606818 , -3.1174684 ,\n",
              "         2.0287638 , -0.28428054,  5.3082685 ,  2.7839072 , -0.5261068 ,\n",
              "         0.7381632 , -1.0836462 , -0.54644513,  2.9282875 ,  0.3272584 ,\n",
              "         3.6220713 , -1.8379855 ,  0.47647208, -2.2563806 , -3.882668  ,\n",
              "        -2.8455076 , -0.5094634 ,  1.086437  , -0.28054783, -1.8402176 ,\n",
              "         0.08878589, -0.14184561,  3.113274  , -0.17348504, -4.090924  ,\n",
              "        -0.18953264,  0.5393935 ,  4.4405713 , -2.3683877 , -2.1085296 ,\n",
              "        -0.4719026 ,  1.6560271 ,  2.6018248 ,  0.73408777,  1.7138867 ,\n",
              "        -2.8729668 ,  0.46292967,  6.0339594 , -4.0478234 , -1.9597951 ,\n",
              "         3.2607603 , -7.6313267 , -3.0183747 ,  3.7447176 , -1.0569226 ,\n",
              "         4.0740857 ,  4.40909   , -6.6592116 ,  4.57037   , -0.31529796,\n",
              "        -1.8265576 ], dtype=float32),\n",
              " array([-3.6346948 , -1.0781319 , -0.06262195, -5.60979   ,  0.23891455,\n",
              "         2.5321295 ,  0.843047  , -1.8864678 , -3.6179194 ,  6.164907  ,\n",
              "         4.8012238 , -3.5984597 ,  1.722809  ,  0.13810456,  7.577861  ,\n",
              "        -1.9304533 ,  3.444292  , -1.1941415 , -0.08390808,  0.11695886,\n",
              "        -0.8865879 ,  3.2220306 , -1.7037692 ,  3.099415  , -0.05354577,\n",
              "        -0.8981981 ,  7.4043207 , -1.0334884 ,  1.1183977 , -0.6133522 ,\n",
              "        -1.2642736 ,  1.7135686 , -1.3634512 ,  6.4744697 , -3.0052943 ,\n",
              "        -1.5118546 ,  2.5473168 , -2.729768  ,  2.8850095 , -4.756716  ,\n",
              "        -1.0344336 ,  0.45851853,  1.9032664 , -2.1689603 ,  0.01906824,\n",
              "        -1.0471662 ,  0.18661913, -2.3660746 ,  1.0777211 , -5.022543  ,\n",
              "         3.4205322 , -6.437092  , -1.5195475 ,  3.0606568 , -4.1166787 ,\n",
              "        -3.866244  ,  9.301317  , -1.9230379 , -0.20306799,  0.28548694,\n",
              "         2.1797051 , -0.73898745,  1.8091998 , -2.7798767 , -3.8839486 ,\n",
              "         1.6061832 ,  5.298962  ,  6.8294272 , -3.4710011 ,  4.18823   ,\n",
              "        -2.2126436 , -4.9462876 , -2.7814975 ,  2.5002937 , -1.6588211 ,\n",
              "        -3.1347003 ,  3.6031804 , -1.6431553 , -7.2884774 , -2.3050137 ,\n",
              "         1.9934688 ,  2.8763514 , -0.9094635 ,  2.6739943 ,  1.6726587 ,\n",
              "        -2.880558  , -6.9097753 , -0.7374897 ,  4.547104  ,  1.0741202 ,\n",
              "        -0.10675313,  1.8931191 , -3.2836776 ,  0.689272  , -2.8148818 ,\n",
              "         5.8879437 ], dtype=float32),\n",
              " array([-1.61866   , -0.290724  , -2.1662714 ,  1.6022139 ,  1.5007848 ,\n",
              "         2.1912184 , -1.4844187 , -2.2742019 , -3.8594077 ,  2.0627356 ,\n",
              "         4.4939623 ,  2.6598015 ,  1.1970955 ,  1.0996252 ,  3.454716  ,\n",
              "        -2.4525626 ,  5.4850726 , -0.3713176 , -2.0941176 , -4.395002  ,\n",
              "        -2.5148668 ,  1.3714495 , -2.9883282 , -0.7208236 ,  9.155971  ,\n",
              "        -0.77181005, -1.9868295 ,  1.7744082 , -3.5207803 ,  2.5104666 ,\n",
              "        -6.4786773 , -1.931782  , -5.7627525 ,  0.49497545, -0.482428  ,\n",
              "        -0.32248485, -0.59100384, -1.0300443 , -7.3258996 , -2.8338616 ,\n",
              "         4.120987  , -1.5866544 , -3.2444978 ,  1.9734828 ,  0.89708763,\n",
              "        -2.1470683 ,  3.5403185 ,  8.150812  , -3.0292103 , -1.1219708 ,\n",
              "         3.855939  , -6.3677115 ,  2.5981266 ,  2.1206603 ,  8.152125  ,\n",
              "         1.6411891 , -2.1392822 , -4.670528  ,  1.4163134 ,  4.5565624 ,\n",
              "         5.7095356 , -2.0692012 ,  4.1827435 ,  1.1243845 , -5.292511  ,\n",
              "         1.061626  ,  0.39207494,  3.2987733 , -1.0529037 ,  1.0265634 ,\n",
              "        -5.06613   , -4.3954134 , -2.0785358 ,  1.3933768 ,  0.3596419 ,\n",
              "        -3.3824854 ,  5.5300546 , -3.863118  , -6.8139853 ,  0.7096068 ,\n",
              "        -2.4392412 ,  2.0360208 , -3.5294237 ,  3.4426026 ,  0.4770897 ,\n",
              "        -2.1407416 ,  2.4448519 , -2.505242  , -1.302961  ,  1.7476817 ,\n",
              "         1.4181863 , -4.1398406 ,  0.93690085,  3.5345511 ,  3.9349003 ,\n",
              "         3.881013  ], dtype=float32),\n",
              " array([ 3.3269258 ,  3.719435  , -2.455903  ,  0.23484191, -2.5952013 ,\n",
              "        -2.0665812 , -1.5755987 , -1.3499535 ,  0.8849833 ,  1.9833992 ,\n",
              "         4.922703  , -3.2636247 ,  0.5231869 ,  9.3050785 , -2.4387894 ,\n",
              "        -0.33168644,  1.1452105 , -4.387705  , -5.3965635 , -4.3944936 ,\n",
              "        -1.8381236 , -2.7382197 , -9.252684  , -0.14067757, -2.3622212 ,\n",
              "        -0.59352505, -4.2639956 ,  7.7772217 ,  1.3496912 ,  1.2254672 ,\n",
              "        -2.5059898 ,  5.632282  ,  4.92224   ,  0.1565345 ,  0.0638628 ,\n",
              "         2.2366767 , -1.3103552 , -4.237597  ,  0.42507872, -2.1287887 ,\n",
              "        -0.08984548, -5.4964547 ,  1.4802785 , -6.1620035 , -0.22395232,\n",
              "         2.869553  ,  0.6583335 , -1.1629267 , -1.8233287 , -3.8785732 ,\n",
              "        -0.7496685 , -2.827657  , -2.7455754 ,  0.6416793 , -7.8908496 ,\n",
              "         4.023152  , -5.0726123 , -1.733351  ,  1.4642549 ,  3.3461878 ,\n",
              "         1.8232504 ,  8.262681  , -3.207549  ,  4.570547  ,  6.8804865 ,\n",
              "         2.1988106 , -0.52639186,  4.517254  ,  6.401647  ,  3.3053036 ,\n",
              "         4.375556  ,  7.8249326 ,  1.4736648 ,  0.01421198,  3.2803748 ,\n",
              "        -3.1639278 , -2.8527517 ,  3.6971421 , -1.9873414 ,  3.4091632 ,\n",
              "        -1.6250567 , -3.034277  ,  0.52599025,  2.3634002 , -1.5807364 ,\n",
              "         1.6483603 , -0.39460868, -2.8771203 , -4.6478996 , -1.2238102 ,\n",
              "        -2.105833  , -2.805265  ,  2.2261949 , -0.72950065, -0.94101185,\n",
              "         1.9108449 ], dtype=float32),\n",
              " array([ 6.9242349e+00, -4.5036201e+00,  4.6745062e+00,  4.6414928e+00,\n",
              "        -3.5786991e+00,  3.0538374e-01,  3.8725309e+00,  1.1640859e+00,\n",
              "        -2.8359404e+00,  3.0815716e+00,  9.6067715e-01,  9.8297274e-01,\n",
              "         9.4522774e-01, -1.0049356e+00,  1.5604601e+00, -1.9096314e+00,\n",
              "         1.4554996e+00,  2.2831113e+00, -2.0809021e+00,  4.6938334e+00,\n",
              "        -3.3712032e+00, -1.5642653e+00,  4.4550845e-01, -6.8095617e+00,\n",
              "        -1.3788388e+00, -7.8122842e-01, -2.0654469e+00, -3.6047251e+00,\n",
              "        -3.8663478e+00,  1.2799599e+00, -7.6429009e-01, -1.0120902e+00,\n",
              "        -5.0672007e+00, -6.8748727e+00,  2.2127655e+00, -2.7943075e-01,\n",
              "        -3.5838082e+00, -8.0202878e-01,  4.1958880e+00,  8.8825893e+00,\n",
              "        -4.4392190e+00,  4.8130350e+00, -2.5597434e+00, -3.0902166e+00,\n",
              "         3.0654263e+00, -1.0862360e+00, -3.6682692e+00,  1.5376701e+00,\n",
              "        -3.7636499e+00,  6.8702769e+00,  1.7241597e+00,  4.7660608e+00,\n",
              "        -4.6480818e+00, -1.0498461e-01, -5.4416881e+00, -1.9925195e-01,\n",
              "        -3.4703484e+00,  3.0343547e+00, -2.5631871e+00, -5.3545351e+00,\n",
              "        -6.0059409e+00, -3.9859271e+00,  7.3918855e-01, -9.0204465e-01,\n",
              "        -1.5963898e+00, -3.1197135e+00, -7.7751338e-01,  3.8802123e-01,\n",
              "        -3.5801861e-01,  1.3136503e+00, -2.2094193e+00, -3.4362435e-01,\n",
              "        -3.4940114e+00,  6.6274276e+00,  7.9965591e-03,  3.8205466e+00,\n",
              "         1.2762723e+00,  2.0649824e+00,  4.0968699e+00,  8.2495241e+00,\n",
              "         6.4705782e+00,  1.0906798e+01,  3.5290554e+00, -1.4953532e+00,\n",
              "        -7.5680125e-01, -1.5672238e+00, -4.4638386e+00,  6.9069564e-02,\n",
              "         2.2528059e+00,  7.1139592e-01,  3.0449357e+00,  3.9462748e+00,\n",
              "        -5.3519940e-01, -3.9481685e-01, -1.3945998e+00, -5.0418978e+00],\n",
              "       dtype=float32),\n",
              " array([-0.01550576,  1.3343713 ,  0.04555386,  1.530812  ,  2.5543423 ,\n",
              "        -0.65347743, -3.8690362 , -1.2840724 , -2.324836  , -2.7052577 ,\n",
              "        -2.5003486 , -1.2594638 , -2.3391933 ,  2.1115482 ,  0.16123411,\n",
              "         1.7436414 , -2.558579  , -4.26672   , -5.4231234 ,  5.388818  ,\n",
              "        -3.705896  ,  6.087841  , -0.37322903, -0.22303727, -1.52943   ,\n",
              "        -2.7426772 ,  0.69301   ,  1.3235787 ,  1.6017576 , -4.8634915 ,\n",
              "        -0.32833087,  0.4810759 ,  3.710353  , -0.8957966 ,  5.0194955 ,\n",
              "         5.090766  , -5.937541  , -1.012613  , -4.5499883 , -1.7754152 ,\n",
              "        -2.3230393 , -0.6988872 , -0.45606256,  6.91703   , -2.2436798 ,\n",
              "        -1.9568636 , -7.713356  , -6.0821753 , -2.0527039 , -0.87216777,\n",
              "        -0.12493467,  0.67729527,  3.6255462 , -4.149424  ,  3.4026475 ,\n",
              "        -2.838422  , -1.9866295 ,  1.3513587 ,  2.3383455 ,  6.4455833 ,\n",
              "         0.75658274, -2.5879827 , -4.312768  , -1.8642762 ,  7.3401594 ,\n",
              "         0.44373214,  4.5145826 ,  2.0896776 , -1.1806728 , -0.15756804,\n",
              "         5.1239724 ,  1.157011  ,  4.1912246 , -0.19400257,  2.0316591 ,\n",
              "         1.7428188 , -3.6970835 , -2.6956072 ,  6.3565607 ,  0.5790248 ,\n",
              "        -2.277173  ,  3.2554317 ,  1.3276575 , -1.3443012 , -1.0329196 ,\n",
              "         5.394883  ,  3.5177956 ,  1.1032058 , -0.33963102,  0.63321424,\n",
              "        -4.372925  , -0.412589  ,  2.5171814 ,  3.5541453 , -2.2212129 ,\n",
              "        -1.691287  ], dtype=float32),\n",
              " array([ 2.1872716 , -2.0015166 ,  0.4255308 , -3.7111018 ,  8.259887  ,\n",
              "         2.2115664 ,  2.9182558 ,  7.594217  ,  1.6875939 ,  5.9106894 ,\n",
              "        -2.3611534 ,  0.02644628,  0.56862855, -1.31528   , -2.958539  ,\n",
              "        -3.8250222 ,  0.5441018 ,  1.5935546 ,  0.6198501 ,  0.08188272,\n",
              "        -2.153417  ,  2.3603873 ,  9.585838  , -1.6949546 , -0.5563575 ,\n",
              "         4.5318036 ,  7.0044155 , -0.92841375, -0.7358295 ,  3.4090056 ,\n",
              "        -1.7847598 , -3.744566  , -0.8188987 , -1.7069068 , -2.9843392 ,\n",
              "        -2.0826192 , -3.016109  , -0.36234695, -2.4733145 , -4.113575  ,\n",
              "        -0.9112061 , -0.17749298, -2.4764192 , -4.032691  ,  1.6554781 ,\n",
              "        -1.1189067 , -2.1253777 ,  0.09367099,  0.6741791 , -1.8217351 ,\n",
              "        -5.0630198 ,  2.4156322 , -3.4710486 ,  2.8210914 ,  2.8481684 ,\n",
              "        -3.1255794 , -3.9054499 , -1.5175793 , -3.1571782 ,  1.315278  ,\n",
              "         4.399591  , -3.101672  , -2.0775907 , -3.7881413 , -1.0828557 ,\n",
              "        -0.8821442 ,  6.2257595 , -2.596598  ,  8.091885  , -2.0242553 ,\n",
              "         0.20001909, -3.837841  , -3.3324847 ,  0.8003058 , -0.92309403,\n",
              "        -1.233924  ,  4.2597117 , -5.208939  , -2.8932695 , -4.2462425 ,\n",
              "         2.11111   ,  2.2772665 , -1.6467105 ,  0.36550778, -0.6304709 ,\n",
              "        -2.729066  ,  6.392355  , -2.159378  , -1.2890234 ,  1.357509  ,\n",
              "         4.522225  , -3.2665129 ,  5.830243  ,  1.2821066 ,  4.5120826 ,\n",
              "        -3.1830478 ], dtype=float32),\n",
              " array([-4.1130195 , -0.3876804 ,  1.6209105 ,  2.7038321 ,  3.626513  ,\n",
              "         0.22081643,  5.400738  ,  3.7958598 ,  0.7008529 , -1.2632955 ,\n",
              "         0.5496185 , -4.8900204 , -0.03729889,  1.5413189 ,  0.32761472,\n",
              "         4.1969066 , -5.5435085 , -2.8089607 , -4.4978795 ,  3.4720342 ,\n",
              "         8.152746  , -0.36660558,  3.4787736 , -2.9256973 , -4.8431396 ,\n",
              "        -5.1832676 ,  0.4849213 , -4.6494703 ,  0.42413914, -3.8483562 ,\n",
              "        -1.1026211 , -1.1179334 ,  0.93296695, -1.5237877 ,  4.608839  ,\n",
              "         2.3674064 , -3.2441564 , -3.4735951 , -1.5528443 , -1.8099725 ,\n",
              "        -3.9647496 ,  5.639096  , -0.04579091,  7.0066    , -1.0207857 ,\n",
              "         3.8187642 ,  2.3927028 , -5.0433927 , -2.33195   ,  1.7718395 ,\n",
              "        -0.32256818,  1.1255535 , -0.09826899, -4.654263  ,  7.8408613 ,\n",
              "        -3.226465  , -0.85456145, -1.5481162 , -0.98045135,  4.3379755 ,\n",
              "         1.9316936 ,  1.8689792 , -2.4214795 , -3.06043   ,  4.8991327 ,\n",
              "         2.2053537 ,  0.5801326 , -1.8672557 , -3.0600548 , -2.3205676 ,\n",
              "        -1.6431017 ,  5.8199687 , -0.7836555 , -4.007112  ,  2.611732  ,\n",
              "        -1.5470841 , -2.3902712 , -2.7138972 ,  7.0918584 , -1.6944585 ,\n",
              "        -3.65634   , -2.5995138 ,  1.6159447 , -2.3559973 ,  2.4451895 ,\n",
              "         4.44159   ,  1.5267342 , -3.1086621 ,  2.7862782 ,  1.9453921 ,\n",
              "        -0.02032197, -6.139491  ,  1.6756573 ,  1.3921959 ,  1.262915  ,\n",
              "        -0.59848136], dtype=float32),\n",
              " array([-0.5686631 , -0.53569746,  2.3023672 , -1.3977052 ,  0.26875266,\n",
              "        -2.4026868 ,  6.635364  , -2.3353472 ,  2.6334865 ,  1.2936614 ,\n",
              "         1.5491235 ,  1.3666174 ,  3.4066815 , -2.4611006 , -4.059951  ,\n",
              "        -4.2924266 , -2.140544  , -0.26956928,  3.7962403 , -0.698361  ,\n",
              "        -2.362858  ,  6.612014  , -0.8011427 , -3.5014338 ,  5.368968  ,\n",
              "         3.3126903 ,  7.3876276 , -1.8553762 ,  1.8137722 ,  3.3348134 ,\n",
              "        -4.5767264 , -7.2116117 ,  5.9410143 ,  2.1430001 , -4.102491  ,\n",
              "        -3.408688  , -4.231691  , -2.4182777 , -2.0450554 , -0.83769435,\n",
              "         2.3474329 , -3.700386  , -5.616821  , -3.4320092 ,  4.7960653 ,\n",
              "         1.1615528 , -4.5341034 , -0.33050823, -1.7929842 ,  2.5844555 ,\n",
              "        -2.921196  ,  5.2025986 , -4.736923  ,  2.3631272 ,  5.101151  ,\n",
              "         3.7748914 , -2.6292    , -3.390797  ,  0.05923343,  1.8832347 ,\n",
              "         0.50678766,  1.9511533 , -4.468995  , -1.3630366 , -2.618643  ,\n",
              "         2.3567717 ,  2.8100262 , -3.793781  ,  9.407762  , -1.6025741 ,\n",
              "        -3.4152317 , -1.9581482 , -2.4968736 , -1.4120436 , -2.6168087 ,\n",
              "         1.1278172 , -0.99630404, -5.312846  ,  1.6341043 , -1.9265137 ,\n",
              "         5.6008716 , -0.7570458 , -2.157544  ,  4.1628113 ,  7.348381  ,\n",
              "         0.4641621 ,  6.704394  , -6.8749943 , -2.881658  ,  1.746024  ,\n",
              "         0.30438158, -2.4996529 ,  3.4720135 ,  1.2001895 ,  1.6426032 ,\n",
              "        -0.8494111 ], dtype=float32),\n",
              " array([ 1.8836308e-01,  1.3142127e+00, -9.7560215e-01,  1.4413470e+00,\n",
              "         2.2270927e+00, -2.9099221e+00,  1.0270505e+00, -1.5002706e+00,\n",
              "         2.0061002e+00, -7.5770277e-01, -1.0553032e-01, -2.3316836e+00,\n",
              "        -6.3962593e+00, -3.1591241e+00, -1.1465771e+00,  1.1813842e+00,\n",
              "        -2.8023839e+00, -3.8491631e+00,  2.7950943e-02, -2.5373628e+00,\n",
              "        -1.8280908e+00,  8.4180546e+00, -4.5605016e-01, -1.4904473e+00,\n",
              "        -3.2248290e+00, -2.7982261e+00, -3.0201459e+00,  1.7284998e+00,\n",
              "         5.3375059e-01, -1.1055639e+00, -6.9984055e+00, -3.5034328e+00,\n",
              "        -7.6724291e-03, -3.9494350e+00,  1.3174489e+00,  1.1467688e+00,\n",
              "         1.1403803e+00,  4.0323577e+00,  6.7370663e+00,  8.9036858e-01,\n",
              "        -2.7771025e+00,  2.2311506e+00,  7.2185707e-01,  1.4800127e+00,\n",
              "        -1.4976046e+00, -6.9167149e-01, -6.8620402e-01, -4.2995434e+00,\n",
              "        -2.9995143e+00,  1.5876017e+00,  1.8668115e-02,  6.2671223e+00,\n",
              "        -1.4260484e+00, -1.9529223e+00,  3.8021748e+00, -7.2131090e+00,\n",
              "         3.9129424e+00,  6.2315121e+00,  3.8146005e+00, -2.2963700e+00,\n",
              "         2.2937226e-01, -3.9882298e+00, -8.9614493e-01,  2.0833316e+00,\n",
              "         7.1793694e+00, -1.0946130e+00,  4.9315343e+00, -2.9898090e+00,\n",
              "        -5.1110637e-01,  8.4080696e-01, -1.1137222e+00,  8.5653836e-01,\n",
              "        -9.0952790e-01, -5.1685190e+00,  6.4142022e+00,  5.3803592e+00,\n",
              "         1.4480721e+00,  7.7383077e-01,  6.6941605e+00,  2.2411329e-01,\n",
              "         9.9104792e-01,  1.3078306e+00, -1.9431969e+00, -3.7264659e+00,\n",
              "        -1.1285934e+00,  3.3392363e+00, -3.5563064e+00, -4.5550690e+00,\n",
              "         1.1694005e+00,  4.8575835e+00, -6.4023805e-01,  1.7089444e+00,\n",
              "        -4.5738631e-01, -4.4709361e-01,  1.0246569e+00, -1.8928423e+00],\n",
              "       dtype=float32),\n",
              " array([ 2.9000933 ,  0.3442322 ,  7.1147013 , -1.6207623 ,  0.72126424,\n",
              "        -2.326821  ,  2.0866928 ,  2.9007602 ,  2.8842125 ,  6.657214  ,\n",
              "         0.4086792 ,  1.294608  ,  0.7892154 , -6.0284925 , -4.5854387 ,\n",
              "        -4.766972  ,  3.666723  , -0.61413956,  6.3122063 , -2.033426  ,\n",
              "        -3.8315754 ,  5.92298   ,  2.1263068 , -3.2148778 ,  4.8822393 ,\n",
              "         2.1044707 ,  1.3481164 ,  0.11878896,  0.98160046,  4.280911  ,\n",
              "        -3.5493197 , -2.615199  ,  3.6231904 , -0.20672333,  0.22099257,\n",
              "        -2.9425197 , -4.118834  , -4.4666405 ,  0.5488534 ,  0.36607647,\n",
              "        -2.2905507 , -0.891373  ,  1.010442  , -4.9192295 ,  5.1594663 ,\n",
              "         2.6032073 , -2.0476608 ,  0.83943665,  1.1059748 ,  0.53956664,\n",
              "        -4.113944  ,  2.2303846 , -2.8468647 ,  3.8857656 ,  2.0947828 ,\n",
              "        -3.1661289 , -0.15510678, -2.8152056 , -0.701782  , -4.903068  ,\n",
              "         0.7812114 , -2.4619777 , -3.076859  , -3.0076993 , -3.620655  ,\n",
              "         2.216423  ,  6.5612793 ,  0.29301396,  1.7793449 , -0.22258714,\n",
              "        -4.620329  ,  0.36559692, -1.9767687 , -2.5073051 ,  0.7308339 ,\n",
              "         3.9436543 ,  1.260546  , -6.3198824 , -1.9308257 , -1.5681794 ,\n",
              "         4.6585884 ,  3.05367   ,  0.57376003,  2.736117  ,  3.8203278 ,\n",
              "        -5.5520787 ,  4.32862   , -2.9797041 , -4.7400956 ,  2.2431533 ,\n",
              "        -1.2332463 , -1.9123672 ,  2.9403412 , -2.3823185 ,  0.7862947 ,\n",
              "        -1.1313195 ], dtype=float32),\n",
              " array([-5.003412  ,  5.1542416 , -0.4555416 ,  3.0618489 ,  1.2439007 ,\n",
              "         2.5677323 ,  5.563593  ,  1.7159468 , -3.0780976 ,  1.3313004 ,\n",
              "        -0.20046598, -4.7471347 , -2.734352  ,  2.8383472 , -3.0855436 ,\n",
              "         2.175753  , -1.4392178 , -0.612463  , -3.6686833 , -0.684716  ,\n",
              "        -3.983777  ,  4.583712  ,  1.3108156 , -1.6919757 , -2.3518224 ,\n",
              "        -5.604454  ,  2.9420128 , -0.14707707, -2.1087935 , -3.1033025 ,\n",
              "        -2.1622093 ,  0.40668422, -3.3804245 , -3.1225698 ,  6.309125  ,\n",
              "         7.840148  ,  0.21053398,  7.27236   , -1.0460839 , -0.3419478 ,\n",
              "         0.6205956 ,  7.6135674 ,  0.9193237 , -0.13876307, -4.8294177 ,\n",
              "         4.7430363 , -1.0688033 , -4.267046  , -0.2421596 , -0.42664343,\n",
              "        -3.7557461 ,  1.7717162 , -2.0804105 , -3.2104259 ,  5.9464293 ,\n",
              "        -2.8482957 , -1.3124845 ,  4.6633835 ,  3.00658   , -1.234162  ,\n",
              "        -1.0531346 , -1.7805461 , -2.826837  ,  0.14543676,  8.7086735 ,\n",
              "         1.0452247 ,  3.6151533 , -1.4457939 , -0.72685486, -0.93692464,\n",
              "        -2.0645328 , -0.1624019 ,  2.4442103 , -4.142525  ,  3.0861442 ,\n",
              "        -0.89676136, -2.9999847 , -1.1474328 ,  0.07603897, -1.9246044 ,\n",
              "         1.9331751 ,  1.374928  , -0.25076938, -5.7778378 , -2.5566597 ,\n",
              "         3.18709   , -5.6435156 ,  3.53821   ,  0.6121689 ,  3.675928  ,\n",
              "        -1.9584994 , -4.451714  , -2.4420898 , -0.20875028,  3.3886542 ,\n",
              "         0.6030688 ], dtype=float32),\n",
              " array([-2.1305277 , -0.88455474, -0.51364857, -3.1342444 ,  2.367986  ,\n",
              "         2.5503516 ,  0.07807255, -4.7212696 ,  5.379726  ,  1.6253417 ,\n",
              "        -0.8211911 , -2.585513  , -0.49133503,  5.800417  , -3.755707  ,\n",
              "        -2.9863062 ,  0.18856582, -5.2385216 , -2.6282558 , -0.56053585,\n",
              "         7.93779   ,  2.8176417 ,  0.25075066,  2.6253848 , -2.6689906 ,\n",
              "         2.2876823 ,  4.4807887 ,  0.5487574 , -2.3002794 ,  2.004664  ,\n",
              "         6.0677047 , -4.791038  ,  1.8204364 ,  1.1990595 ,  1.3657377 ,\n",
              "        -3.2633963 , -0.3956606 ,  1.2930721 , -1.5752978 ,  3.4432302 ,\n",
              "         3.7463098 , -1.3361647 , -0.14955926,  5.6181293 ,  3.1958783 ,\n",
              "        -4.2232113 ,  7.9444313 ,  1.6621543 , -0.57086825, -1.4602327 ,\n",
              "         2.940916  ,  5.5879884 ,  2.4566607 ,  2.6498861 , -1.7323313 ,\n",
              "        -0.57379097, -0.6670829 ,  1.8100443 , -3.076217  ,  0.14899254,\n",
              "        -0.27726853,  0.06791985, -6.4474587 ,  0.13868675, -3.641143  ,\n",
              "        -0.08487241, -3.5687785 , -1.9204059 ,  1.2232405 , -1.7928007 ,\n",
              "         3.5392249 , -0.16193318,  0.16184509, -2.812722  , -4.1358614 ,\n",
              "        -3.6070983 , -2.611608  ,  5.81988   ,  2.2249207 ,  0.5186188 ,\n",
              "        -2.8060308 , -3.910052  , -5.5555215 , -0.81992596,  0.74101555,\n",
              "         2.8094673 ,  1.563186  ,  6.140044  , -6.342655  , -0.9300865 ,\n",
              "         0.20307338, -5.372286  , -1.6046176 , -0.8525902 , -1.3271217 ,\n",
              "        -0.49148923], dtype=float32),\n",
              " array([-3.0934172 ,  1.610512  , -2.1058986 , -4.3190155 , -1.0149596 ,\n",
              "        -1.1639247 ,  2.670052  , -2.0518804 , -1.2818936 , -3.9561622 ,\n",
              "         0.92794335, -5.0424232 , -0.91674435, -2.2314172 , -1.3767774 ,\n",
              "         0.13813312, -2.1012807 ,  3.5037205 , -0.6639313 , -3.6784666 ,\n",
              "        -5.792364  , -4.2928996 ,  2.4947622 ,  0.9854452 , -1.3766743 ,\n",
              "        -1.776883  , -2.050714  ,  5.7009916 ,  7.013159  ,  4.4037004 ,\n",
              "        -6.493723  , -1.491452  ,  1.5093563 ,  6.1987195 , -5.2479715 ,\n",
              "        -2.845335  ,  3.23364   , -6.411267  ,  0.154262  , -3.2152395 ,\n",
              "        -0.69307905,  5.010709  , -4.75965   ,  5.71787   , -0.78201   ,\n",
              "        -1.4982022 , -3.6699476 ,  7.7206583 ,  3.4221983 , -2.4493694 ,\n",
              "        -2.2638001 ,  2.1646283 ,  0.6880511 , -1.6175191 , -1.4052484 ,\n",
              "         7.3620386 , -2.1788049 , -2.2760541 , -1.1648567 , -2.2000356 ,\n",
              "        -0.6544131 ,  2.8232806 ,  2.96304   ,  4.3634334 , -4.6838126 ,\n",
              "         1.8835033 , -1.769564  , -4.1131535 ,  3.1914325 , -5.0965004 ,\n",
              "        -0.51043284,  2.0424614 ,  4.5006905 , -2.4373593 , -4.010083  ,\n",
              "         2.707375  , -1.4356109 ,  0.9206893 ,  3.3892465 ,  3.2487884 ,\n",
              "        -2.3527212 , -0.21626663,  0.33194357, -2.4434896 ,  0.73781806,\n",
              "         1.8214711 , -2.2880385 ,  3.2526236 ,  3.974972  ,  6.4482117 ,\n",
              "         2.4722612 ,  4.579015  , -0.73415583,  1.8083662 ,  1.2552221 ,\n",
              "         2.612982  ], dtype=float32),\n",
              " array([ 2.7832937e-01,  1.6079715e-01,  1.9124811e+00,  1.9318562e+00,\n",
              "         7.4927485e-01,  6.7004519e+00, -9.8211974e-01,  4.2899561e+00,\n",
              "         5.4067483e+00,  1.4294255e-01,  4.7483902e+00,  1.1184897e+00,\n",
              "         4.0698929e+00,  5.3740792e+00,  7.3653331e+00,  6.1346660e+00,\n",
              "         3.1027884e+00, -1.8562124e+00,  1.3417828e+00, -3.8782792e+00,\n",
              "        -9.7950405e-01, -2.9773092e+00, -2.9258933e+00,  1.9918344e+00,\n",
              "        -1.8002293e+00, -1.0703897e+00, -3.9628978e+00, -3.7011898e+00,\n",
              "        -3.6002226e+00, -2.1484733e+00, -4.4354253e+00, -1.4813310e+00,\n",
              "         1.2495587e+00,  1.2775109e+00,  2.3839157e+00,  3.6898217e+00,\n",
              "         2.2867060e+00, -1.1750785e+00, -4.3509901e-03,  3.0412343e-01,\n",
              "         2.3289654e+00, -4.4075594e+00,  8.0825405e+00, -4.7964950e+00,\n",
              "        -2.6048064e+00, -4.5896144e+00,  1.6288567e+00,  5.1922364e+00,\n",
              "        -3.7963598e+00, -2.2270048e+00,  2.4017496e+00,  1.8281631e+00,\n",
              "        -2.8831120e+00, -8.9170736e-01, -8.6594372e+00, -3.8400214e+00,\n",
              "         2.1273258e+00,  4.4988632e-01,  5.0427213e+00, -5.4128399e+00,\n",
              "        -6.3988180e+00,  3.6749840e+00, -1.0225861e+00,  2.3107958e+00,\n",
              "        -3.0431461e+00,  4.3460932e+00,  2.2915730e+00, -1.4222934e+00,\n",
              "        -3.2451034e+00,  5.9668174e+00, -1.8727222e-01,  2.0625088e+00,\n",
              "         1.4937074e+00, -3.4188008e+00,  4.7024834e-01,  1.7557061e+00,\n",
              "        -3.6470349e+00, -9.2143393e-01,  5.4841971e-01, -1.3995504e+00,\n",
              "        -3.2520208e+00,  6.2382317e+00, -1.8228641e+00, -3.9549661e+00,\n",
              "         5.0795040e+00, -1.2583333e+00, -5.9539208e+00, -3.1982234e+00,\n",
              "         2.3851349e+00, -1.9452653e+00,  1.6788986e+00, -2.1437712e+00,\n",
              "        -3.1826799e+00, -1.7449291e+00, -1.8622899e+00,  2.3939137e+00],\n",
              "       dtype=float32),\n",
              " array([ 1.7769866 , -1.6092314 ,  1.1683803 , -1.1779287 ,  0.38290834,\n",
              "         3.1180072 ,  1.5868477 ,  2.9635253 ,  4.318205  ,  2.9421024 ,\n",
              "         1.9689898 , -1.8333641 ,  1.2242422 , -1.5325342 ,  0.7449122 ,\n",
              "         0.5651085 , -0.422908  ,  1.8928328 ,  1.7655885 , -2.550973  ,\n",
              "        -2.5738146 ,  2.2886682 ,  1.9904416 , -0.5160197 ,  0.1346451 ,\n",
              "         1.0557753 , -1.5719717 ,  2.2071567 , -0.35771543,  5.794238  ,\n",
              "        -4.980465  , -1.3059887 , -2.4014437 ,  0.171826  , -2.163978  ,\n",
              "         2.5863607 , -2.678564  , -5.9911604 , -0.06941803, -2.3002849 ,\n",
              "        -0.40016532,  0.18663545, -1.0849991 , -5.37692   ,  2.6265395 ,\n",
              "        -0.17387173, -2.1671782 ,  1.8690974 ,  4.356879  ,  3.5374067 ,\n",
              "         0.81035477,  2.3096538 , -0.736697  , -0.50980574, -2.1213262 ,\n",
              "        -1.9518665 ,  1.1242425 , -0.7464186 , -6.040946  ,  2.6823013 ,\n",
              "         0.6384306 , -2.705491  , -1.2915246 , -4.535062  , -0.55722356,\n",
              "         0.5419123 ,  6.301033  , -2.47712   ,  0.8220055 , -1.2930186 ,\n",
              "        -2.2689965 , -3.6324768 , -4.71122   ,  4.467054  , -0.10274178,\n",
              "        -2.27254   , -0.34230137, -3.02066   , -8.761068  , -3.0438051 ,\n",
              "        -2.0602853 ,  3.134759  ,  1.3868194 ,  1.7601658 ,  5.058858  ,\n",
              "        -2.1974626 ,  0.5448717 , -0.67522645,  2.2533052 ,  1.9722494 ,\n",
              "         7.3050942 ,  0.01006681, -0.75241446,  1.5413785 ,  5.076423  ,\n",
              "        -1.5678711 ], dtype=float32),\n",
              " array([-2.0620987 , -1.4708782 ,  2.6115618 ,  7.4366646 , -1.3415236 ,\n",
              "        -2.9074488 , -2.2423458 , -2.6303415 , -0.28192455, -1.4139504 ,\n",
              "         1.2590408 ,  2.1502984 ,  5.8962755 ,  0.28920227,  5.0520296 ,\n",
              "         2.842689  ,  3.711328  ,  5.0019827 ,  1.2091832 , -5.896705  ,\n",
              "         1.42086   , -2.190325  ,  1.2169521 , -0.5058013 ,  2.5217557 ,\n",
              "        -4.552453  ,  3.9029894 ,  5.028013  , -0.63626635,  1.006969  ,\n",
              "        -2.2627532 , -1.4065574 , -1.4918259 , -1.1091506 , -3.443098  ,\n",
              "         4.165924  , -1.4071586 , -2.1199582 , -0.5987935 , -0.13685322,\n",
              "        -5.5276623 , -7.6669006 , -0.4211181 , -4.993634  , -4.612073  ,\n",
              "         6.6142335 , -2.6533551 , -0.9577667 , -4.139932  ,  3.3965802 ,\n",
              "         6.1539345 ,  1.8809392 ,  0.45919484,  2.0221994 , -3.5131087 ,\n",
              "         2.6145816 ,  3.070594  ,  0.214632  , -2.4666932 , -0.60316074,\n",
              "        -2.6520412 , -2.9423013 , -4.6638155 , -7.7034144 , -5.688083  ,\n",
              "         3.9205868 ,  2.0432253 ,  1.0324197 , -1.3219392 ,  1.1353779 ,\n",
              "        -1.3039788 , -3.4701815 , -4.27956   ,  8.374324  ,  3.0541682 ,\n",
              "         2.9991221 , -1.8234364 , -3.4550402 , -3.4177783 , -1.6933022 ,\n",
              "         1.4743872 ,  9.004424  ,  0.5501828 , -0.63730454,  5.612544  ,\n",
              "        -0.8103473 , -7.1790915 ,  2.4866958 ,  1.744763  , -1.8666149 ,\n",
              "         5.0445337 ,  4.645215  , -4.8003798 ,  3.6216834 ,  1.8740807 ,\n",
              "         1.0657809 ], dtype=float32),\n",
              " array([-6.618846  , -2.1969616 ,  3.0392687 ,  2.4902735 , -0.47987092,\n",
              "        -2.9565797 , -3.915615  , -0.2779923 , -2.4258137 ,  1.8653543 ,\n",
              "         2.3982615 , -1.4739002 ,  0.85775447, -5.0181627 ,  3.8339374 ,\n",
              "        -0.84105974,  5.4391446 ,  3.155179  , -3.5473971 , -5.7669787 ,\n",
              "         0.8987069 ,  0.83642113,  1.0738792 ,  0.5982764 , -1.303974  ,\n",
              "        -4.8328586 ,  4.2859836 ,  0.65876085, -1.7535195 , -0.9679585 ,\n",
              "        -1.4451686 , -0.98948264, -7.123932  ,  0.52234596, -3.7287338 ,\n",
              "        -2.3197212 ,  3.7129588 ,  3.5189261 ,  3.7202358 ,  2.780265  ,\n",
              "        -4.1145473 , -4.1796274 ,  5.985228  , -2.9357684 ,  1.6211892 ,\n",
              "         6.043385  , -4.443762  ,  2.5682354 ,  1.6497438 ,  1.3431318 ,\n",
              "         9.790884  , -0.02450621,  2.230339  ,  0.9935146 , -4.014098  ,\n",
              "         2.8684092 ,  3.3518956 ,  2.4222765 , -0.6438238 ,  3.578232  ,\n",
              "        -1.2287916 , -4.6704707 , -2.3984492 , -3.4366693 , -4.313452  ,\n",
              "         4.5307837 ,  2.349106  ,  0.66949475, -2.0269237 ,  1.8415107 ,\n",
              "        -5.255233  , -1.302082  , -4.6667523 ,  7.949471  , -1.3299346 ,\n",
              "         2.764238  , -2.4627233 , -2.614318  , -0.55563   , -1.8241336 ,\n",
              "         4.898461  ,  6.2662487 ,  3.584082  , -2.131882  ,  4.628041  ,\n",
              "         0.9680062 , -3.8877625 ,  0.54045975,  1.0911479 , -1.1907463 ,\n",
              "         2.1609552 ,  7.391905  , -8.088709  , -1.1263274 , -3.297838  ,\n",
              "        -0.7957344 ], dtype=float32),\n",
              " array([-9.64189708e-01,  7.28074729e-01,  4.03335667e+00, -1.69944787e+00,\n",
              "         1.93386388e+00, -3.51020598e+00, -3.71005535e-02, -4.51633930e+00,\n",
              "        -3.20063019e+00, -1.22652841e+00,  6.15009248e-01,  1.45092881e+00,\n",
              "        -6.45369720e+00, -6.85542166e-01,  3.44014359e+00, -9.61610138e-01,\n",
              "        -4.70996022e-01, -1.79760838e+00, -4.75526714e+00, -2.86501551e+00,\n",
              "         2.87670970e+00,  5.40218353e+00,  4.96733856e+00, -2.37977648e+00,\n",
              "         1.04894325e-01, -4.90699816e+00,  3.26473117e+00, -2.14390516e+00,\n",
              "         3.17439795e+00, -6.02537823e+00, -2.94007945e+00, -4.28400230e+00,\n",
              "        -1.40117443e+00,  1.89084244e+00,  2.95875525e+00, -1.73345459e+00,\n",
              "        -7.77562618e-01,  3.06697369e+00,  1.02138462e+01,  2.05609703e+00,\n",
              "        -2.99361324e+00,  4.23200178e+00,  5.47118247e-01, -1.93430555e+00,\n",
              "         2.06000805e+00,  2.16211510e+00,  1.14603436e+00,  1.46532750e+00,\n",
              "         7.94364214e+00, -4.87347412e+00,  1.41832232e+00, -3.94183397e+00,\n",
              "         2.39564586e+00, -1.45192289e+00, -1.73013330e-01, -2.23539519e+00,\n",
              "         7.10098648e+00,  4.26795125e-01,  1.17053461e+00,  6.24517441e-01,\n",
              "         3.37665224e+00, -2.03000546e-01, -2.34950781e+00,  6.14636004e-01,\n",
              "         6.84337139e+00,  4.75276470e+00,  1.68376422e+00, -9.08994555e-01,\n",
              "         1.76893377e+00,  1.04296148e+00, -2.24802732e+00,  2.25821733e-02,\n",
              "        -1.38914156e+00, -4.87172318e+00,  8.17118943e-01,  9.66971517e-01,\n",
              "        -5.55200696e-01, -1.56888270e+00,  1.70027113e+00,  6.44112885e-01,\n",
              "        -3.04301310e+00,  4.14807320e+00, -2.19292259e+00, -1.24486518e+00,\n",
              "         2.57194662e+00,  2.27104521e+00, -2.94300532e+00, -3.21787119e+00,\n",
              "        -1.33077276e+00, -1.33663416e-03, -3.92341948e+00, -3.26193905e+00,\n",
              "        -3.05019403e+00, -6.25117123e-01, -2.00163507e+00,  9.30963755e-01],\n",
              "       dtype=float32),\n",
              " array([-1.695978  ,  2.7853737 , -1.4347074 ,  1.7900746 ,  1.2644013 ,\n",
              "        -5.790769  , -2.0205467 , -3.8905942 , -5.113576  ,  2.151527  ,\n",
              "         1.3385482 ,  6.9084744 , -0.22341192,  0.659334  ,  5.5366793 ,\n",
              "        -4.80193   ,  6.081622  , -1.1835737 ,  3.0325692 , -1.6599007 ,\n",
              "         3.1886249 , -0.26725304, -1.2542418 , -4.5951023 ,  7.107744  ,\n",
              "        -2.4967837 , -4.3093123 , -0.17080694,  0.76853085, -0.04398754,\n",
              "        -2.5111566 , -2.3434534 , -0.58218235,  7.140535  , -2.8827229 ,\n",
              "        -2.284419  , -0.7685096 , -0.6768985 , -2.3372755 ,  0.3420412 ,\n",
              "         5.7801285 , -0.24118084, -3.1223068 , -0.47265565,  2.011722  ,\n",
              "        -7.436564  ,  2.4734817 ,  2.907395  ,  1.6736516 , -6.634583  ,\n",
              "         4.5807176 , -7.5080814 , -2.6514869 ,  2.7661836 ,  2.0701091 ,\n",
              "         4.172357  ,  2.366437  , -2.7199154 ,  7.4766703 , -1.258573  ,\n",
              "         2.1263304 , -0.567449  ,  4.3695707 ,  4.1465898 ,  0.14434654,\n",
              "         1.1375235 , -3.4572074 ,  5.36388   ,  0.8332067 ,  3.3460128 ,\n",
              "        -2.211909  , -1.9437215 , -1.0955629 , -4.882536  ,  0.3759187 ,\n",
              "        -1.7200762 ,  5.6115055 , -2.0556185 , -4.5490036 ,  5.2460356 ,\n",
              "        -2.5215838 ,  0.03024757,  0.5701703 ,  4.9058733 ,  1.3557211 ,\n",
              "        -0.42332864, -0.48356366, -2.1182742 , -2.133959  , -1.3328781 ,\n",
              "        -1.3328726 , -4.024098  , -4.968407  , -1.1477976 ,  1.2878386 ,\n",
              "         2.0196815 ], dtype=float32),\n",
              " array([ 0.0634734 , -0.16833568, -1.3034017 , -1.1948142 ,  3.1063585 ,\n",
              "        -4.110444  , -1.6086893 , -4.8061123 , -1.7555118 , -1.4915972 ,\n",
              "         1.9208003 ,  2.449664  ,  2.056416  ,  1.3970873 ,  6.6767383 ,\n",
              "        -1.8282518 ,  1.5500326 , -3.3136594 , -2.3370774 , -0.1337418 ,\n",
              "         3.5863292 , -0.23424971, -0.53850645, -3.0963461 ,  1.794848  ,\n",
              "        -4.752099  , -2.8230152 ,  3.7813988 ,  0.4306514 ,  1.7734509 ,\n",
              "        -1.7523217 ,  5.313829  , -2.836201  ,  3.111937  , -1.3755937 ,\n",
              "        -1.0133373 ,  1.46859   ,  0.82181823, -2.3472266 ,  8.972954  ,\n",
              "        -4.9745846 , -4.0966716 , -6.461379  , -3.0512872 , -0.8446924 ,\n",
              "        -0.30572295,  0.41207492,  6.640775  , -5.4125023 , -3.0844774 ,\n",
              "         7.74064   , -6.0931106 , -5.787311  ,  0.627995  ,  0.19888163,\n",
              "         2.0246367 ,  2.4935436 , -0.17160821,  6.2067018 , -3.1680803 ,\n",
              "        -0.17654368,  4.2409186 ,  2.0142994 ,  0.77893674,  0.81070447,\n",
              "         4.8602023 , -2.1849103 ,  0.12691998,  1.8979737 , -3.328669  ,\n",
              "        -2.4736192 , -3.301685  , -2.2719884 ,  2.9940734 ,  4.280158  ,\n",
              "        -0.02369249, -0.6235945 , -0.9312    ,  3.8360634 ,  6.9907584 ,\n",
              "         2.7840643 , -4.5710635 , -5.8299513 , -3.5718834 , -2.355498  ,\n",
              "        -1.2852705 , -0.57995   , -2.5197802 ,  3.4476004 ,  0.7557379 ,\n",
              "         3.667038  , -4.5945535 ,  2.1416929 ,  5.3659267 ,  6.2731776 ,\n",
              "        -4.152478  ], dtype=float32),\n",
              " array([ 0.0611977 , -2.062677  ,  1.3315978 ,  6.3252153 ,  1.5284461 ,\n",
              "        -1.0897152 ,  3.0758169 , -3.3674636 , -3.4296088 , -1.5425894 ,\n",
              "        -1.6653464 ,  4.9255443 , -1.6467934 , -3.167805  ,  0.03756087,\n",
              "        -0.25066113, -1.7331468 , -2.0780904 , -5.9474    ,  0.7355555 ,\n",
              "         0.6773362 , -2.5724125 , -2.5752707 ,  1.1635933 ,  0.01528329,\n",
              "        -1.35989   , -4.419388  ,  2.538751  ,  2.0884051 , -1.1602674 ,\n",
              "         1.0212132 ,  7.1566596 ,  2.1327212 ,  3.7651854 ,  0.47478727,\n",
              "         2.3338566 , -4.9714394 ,  1.7165166 ,  3.2724738 ,  4.509963  ,\n",
              "         4.6311903 ,  4.367117  , -0.40234637, -4.0115514 ,  3.7036693 ,\n",
              "         2.7676663 , -0.45960352, -1.1072123 ,  0.44063324, -4.61051   ,\n",
              "        -3.498167  ,  2.3080778 , -2.7316995 , -3.9531224 , -5.358165  ,\n",
              "         2.129407  , -2.473904  , -0.38016325,  0.1567813 ,  7.1981697 ,\n",
              "         1.383193  ,  3.2814052 , -1.6412566 ,  0.42109096,  3.4856918 ,\n",
              "         5.199665  , -3.8413045 , -4.009759  , -0.2231282 , -1.593374  ,\n",
              "         2.5462368 ,  4.7052255 ,  0.85185987, -0.07018459, -0.21498418,\n",
              "         2.8718538 , -4.2723756 ,  1.737674  , -2.9244807 ,  2.151672  ,\n",
              "        -2.7470627 , -5.4606466 , -0.23086983, -3.961969  , -8.947501  ,\n",
              "         2.2446747 , -8.731257  ,  1.9817649 , -2.8860877 ,  1.2075832 ,\n",
              "         3.163948  ,  0.4396134 , -2.5848577 ,  5.1110396 ,  2.6270814 ,\n",
              "         6.446746  ], dtype=float32),\n",
              " array([-1.0296781 , -2.5300431 ,  3.521325  , -1.3601059 ,  0.26745683,\n",
              "         5.601485  , -0.32949075, -5.0866647 ,  2.7068686 ,  0.17587394,\n",
              "        -1.4773903 , -0.05246109, -0.9404193 ,  6.1488404 , -1.9706075 ,\n",
              "        -2.4754658 , -0.15922552, -4.820468  , -0.3214938 , -2.1179736 ,\n",
              "         7.937332  ,  1.9602556 , -0.526289  ,  5.412772  , -1.4748108 ,\n",
              "         3.3409812 ,  3.9916837 ,  0.03555956,  1.1920476 ,  0.18403858,\n",
              "         7.5086365 , -3.825636  , -0.02090704,  0.69888073,  2.8698804 ,\n",
              "        -0.41459164, -0.29500818,  3.4736538 , -0.7813717 ,  2.6605792 ,\n",
              "         6.9226713 ,  0.5922098 , -0.23215091,  5.7699547 ,  1.5350065 ,\n",
              "        -2.063222  ,  6.271039  ,  4.6047254 , -2.1540074 , -2.5358343 ,\n",
              "         0.5188292 ,  2.9027834 ,  5.4300833 ,  1.8431059 ,  0.67879534,\n",
              "        -1.0972373 , -1.2312257 , -1.1647427 , -2.9724333 , -0.9942639 ,\n",
              "        -2.4762726 ,  1.6160686 , -3.7066789 , -0.47838968, -4.3247933 ,\n",
              "        -0.62362766, -4.2142777 , -1.4597846 ,  1.0022367 , -4.7401505 ,\n",
              "         3.3608773 , -3.36908   ,  0.49413288, -2.0082679 , -3.8721647 ,\n",
              "        -5.74524   , -4.456071  ,  6.2501073 , -2.5458555 ,  1.3306489 ,\n",
              "        -5.355315  , -5.612186  , -7.3697653 , -2.9920778 , -3.4183056 ,\n",
              "         2.5949116 ,  1.3227421 ,  8.733635  , -4.3583703 ,  3.0426464 ,\n",
              "        -0.63732016, -1.6506863 ,  0.18499401, -3.4160907 , -0.9319265 ,\n",
              "        -1.3740028 ], dtype=float32)]"
            ]
          },
          "metadata": {},
          "execution_count": 22
        }
      ],
      "source": [
        "return_word_embedding(test)"
      ]
    },
    {
      "cell_type": "markdown",
      "id": "c0fa7e76",
      "metadata": {
        "id": "c0fa7e76"
      },
      "source": [
        "## Similarité entre phrases"
      ]
    },
    {
      "cell_type": "code",
      "execution_count": 27,
      "id": "999cf291",
      "metadata": {
        "id": "999cf291"
      },
      "outputs": [],
      "source": [
        "def return_mean_embedding(sentence):\n",
        " # Tokeniser la phrase\n",
        " doc = nlp(sentence)\n",
        " # Retourner la moyenne des vecteurs pour chaque phrase\n",
        " return np.mean([(X.vector) for X in doc], axis=0)\n"
      ]
    },
    {
      "cell_type": "code",
      "execution_count": 28,
      "id": "ff4dab10",
      "metadata": {
        "id": "ff4dab10"
      },
      "outputs": [],
      "source": [
        "test_2 = \"Le réseau sera bientot rétabli à Marseille\"\n",
        "test_3 = \"La panne réseau affecte plusieurs utilisateurs de l'opérateur\"\n",
        "test_4 = \"Il fait 18 degrés ici\""
      ]
    },
    {
      "cell_type": "code",
      "execution_count": 30,
      "id": "e25b3d28",
      "metadata": {
        "colab": {
          "base_uri": "https://localhost:8080/"
        },
        "id": "e25b3d28",
        "outputId": "149de59d-a73a-4b55-a527-8b2ee0cc76af"
      },
      "outputs": [
        {
          "output_type": "execute_result",
          "data": {
            "text/plain": [
              "array([-1.5669225 ,  1.0682589 , -0.19747798,  0.34100944,  0.17686068,\n",
              "        1.1454934 ,  2.52931   , -0.93218625, -1.2625616 , -0.16557315,\n",
              "        2.250037  , -0.16679008, -0.3819623 , -0.24992445, -1.6628351 ,\n",
              "       -0.50121635,  1.2094582 , -0.90622914, -0.47798675,  0.44271487,\n",
              "        0.26808637,  0.24215706, -0.04730952, -0.8760818 , -1.4719534 ,\n",
              "       -1.3800961 , -0.11777245, -0.29856786,  1.0535063 ,  0.5944639 ,\n",
              "       -2.2230773 , -0.11092787, -1.1340705 , -0.43835467,  3.4444382 ,\n",
              "        0.39571667, -2.959204  ,  0.12932444, -0.22611086,  1.8903745 ,\n",
              "       -1.7056124 , -0.54449207, -0.6181544 , -0.5221969 ,  1.5741627 ,\n",
              "        1.3224299 , -1.7373139 , -0.71722066, -0.95829594,  1.3836578 ,\n",
              "        1.1248062 , -0.3227238 , -1.7324276 , -1.1055199 ,  1.0209708 ,\n",
              "        0.7332802 , -2.4553065 ,  0.21000133,  2.602818  , -0.02996942,\n",
              "       -0.09842033,  0.03153365, -2.1569374 , -1.1710188 ,  1.7871361 ,\n",
              "        2.273535  ,  0.9344458 ,  0.44925857,  1.1579664 , -0.62609494,\n",
              "       -1.4555988 ,  1.600164  ,  0.9818455 ,  0.27405745, -0.42670158,\n",
              "        0.8136857 , -1.1938436 , -0.6655222 ,  1.7325068 ,  1.0614827 ,\n",
              "       -0.13378008, -0.98710155,  0.58492404, -1.0404493 ,  0.01187188,\n",
              "        1.4934059 , -3.509706  ,  1.9157959 ,  0.54095405, -0.05422899,\n",
              "        0.68722785, -0.21157858,  0.14081134,  1.4854473 ,  1.3100902 ,\n",
              "       -0.78971446], dtype=float32)"
            ]
          },
          "metadata": {},
          "execution_count": 30
        }
      ],
      "source": [
        "return_mean_embedding(test_2)"
      ]
    },
    {
      "cell_type": "code",
      "execution_count": 31,
      "id": "c42691a5",
      "metadata": {
        "colab": {
          "base_uri": "https://localhost:8080/"
        },
        "id": "c42691a5",
        "outputId": "42ac096c-f6d5-4903-d8d1-9527af260c14"
      },
      "outputs": [
        {
          "output_type": "execute_result",
          "data": {
            "text/plain": [
              "array([-1.0035172e+00,  1.9396755e-01,  1.2461503e+00,  9.7936726e-01,\n",
              "       -2.6032412e-01,  1.7242994e+00,  1.4579765e+00,  2.5656741e+00,\n",
              "       -1.3673683e+00,  3.2544401e-03,  5.5628532e-01, -9.5343041e-01,\n",
              "       -7.0897037e-01,  1.4908579e-01,  3.0535424e-01,  1.2345102e+00,\n",
              "        2.0424662e+00, -7.9854906e-01, -7.5843674e-01,  1.5564165e+00,\n",
              "       -4.5658058e-01,  1.8412259e-01,  1.2559664e+00, -4.1943693e-01,\n",
              "        2.9945216e-01, -2.6578643e+00, -3.7749130e-02,  2.5930738e-01,\n",
              "       -2.4696462e-01, -5.3657681e-01, -2.1946816e-01, -1.4659761e+00,\n",
              "       -6.0993314e-01, -3.4474287e+00,  2.4473505e+00,  3.3329386e-01,\n",
              "       -3.0355213e+00, -1.2638030e+00,  1.1228477e+00,  1.9607812e-01,\n",
              "       -2.8478465e+00, -1.2139696e+00,  7.7146930e-01,  2.5737530e-01,\n",
              "        1.5074213e+00,  3.3038998e-01, -3.3070159e+00, -7.4349827e-01,\n",
              "       -1.1816099e+00,  2.1928358e-01, -2.1213940e-01,  1.1021017e+00,\n",
              "        3.8161623e-01,  5.5089998e-01, -3.7666410e-01, -7.9193962e-01,\n",
              "       -1.5240624e+00,  1.6608263e+00,  1.5519435e+00, -5.6262010e-01,\n",
              "       -1.1085241e+00, -3.9128411e-01, -2.9036896e+00, -2.7685056e+00,\n",
              "        1.3967086e+00,  1.6997250e+00,  2.2302217e+00,  6.8385780e-01,\n",
              "        5.0512046e-01,  6.1261338e-01, -6.0763460e-01, -2.8465089e-01,\n",
              "        1.0010491e-01,  2.4224167e+00,  4.5990360e-01,  1.4687533e+00,\n",
              "        9.6640754e-01, -2.1821074e+00,  7.2181010e-01, -4.4870535e-01,\n",
              "       -5.0771099e-01,  1.8729445e+00,  7.8192753e-01, -5.0132477e-01,\n",
              "        2.1622305e+00,  7.0115882e-01, -1.2393147e+00, -5.6181654e-02,\n",
              "       -7.3738199e-01, -1.3454690e+00, -2.5635514e-01,  6.5801054e-01,\n",
              "       -1.2096587e-01,  2.5846431e+00,  1.6802076e-01, -1.6135108e+00],\n",
              "      dtype=float32)"
            ]
          },
          "metadata": {},
          "execution_count": 31
        }
      ],
      "source": [
        "return_mean_embedding(test_3)"
      ]
    }
  ],
  "metadata": {
    "kernelspec": {
      "display_name": "Python 3 (ipykernel)",
      "language": "python",
      "name": "python3"
    },
    "language_info": {
      "codemirror_mode": {
        "name": "ipython",
        "version": 3
      },
      "file_extension": ".py",
      "mimetype": "text/x-python",
      "name": "python",
      "nbconvert_exporter": "python",
      "pygments_lexer": "ipython3",
      "version": "3.9.12"
    },
    "colab": {
      "provenance": [],
      "include_colab_link": true
    }
  },
  "nbformat": 4,
  "nbformat_minor": 5
}